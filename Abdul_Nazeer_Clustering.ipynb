{
 "cells": [
  {
   "cell_type": "code",
   "execution_count": 5,
   "id": "a323a247-b4d5-46e5-99ee-443016073c61",
   "metadata": {},
   "outputs": [],
   "source": [
    "#Step 1: Import Libraries and Load Data\n",
    "\n",
    "import pandas as pd\n",
    "import numpy as np\n",
    "import matplotlib.pyplot as plt\n",
    "import seaborn as sns\n",
    "from sklearn.preprocessing import StandardScaler\n",
    "from sklearn.metrics.pairwise import cosine_similarity\n",
    "from sklearn.cluster import KMeans\n",
    "from sklearn.decomposition import PCA\n",
    "from sklearn.metrics import davies_bouldin_score\n",
    "from sklearn.ensemble import IsolationForest\n",
    "from statsmodels.tsa.arima.model import ARIMA\n",
    "from plotly.subplots import make_subplots\n",
    "import plotly.graph_objects as go\n"
   ]
  },
  {
   "cell_type": "code",
   "execution_count": 6,
   "id": "f05599bf-1b68-48eb-a4b2-30b110be4c6c",
   "metadata": {},
   "outputs": [],
   "source": [
    "# Set global styles for better visualization\n",
    "sns.set(style=\"whitegrid\")"
   ]
  },
  {
   "cell_type": "code",
   "execution_count": 23,
   "id": "16b9c2d4-3525-4361-9c9f-0ccbf08d5722",
   "metadata": {},
   "outputs": [],
   "source": [
    "# Load datasets\n",
    "customers = pd.read_csv(r\"C:\\Users\\roxna\\Downloads\\Data_Intern\\Customers.csv\")\n",
    "products = pd.read_csv(r\"C:\\Users\\roxna\\Downloads\\Data_Intern\\Products.csv\")\n",
    "transactions = pd.read_csv(r\"C:\\Users\\roxna\\Downloads\\Data_Intern\\Transactions.csv\")"
   ]
  },
  {
   "cell_type": "code",
   "execution_count": 25,
   "id": "4874c1fb-77d1-45d9-9bca-006df70e4ce5",
   "metadata": {},
   "outputs": [
    {
     "name": "stdout",
     "output_type": "stream",
     "text": [
      "Customers Dataset Info:\n",
      "<class 'pandas.core.frame.DataFrame'>\n",
      "RangeIndex: 200 entries, 0 to 199\n",
      "Data columns (total 4 columns):\n",
      " #   Column        Non-Null Count  Dtype \n",
      "---  ------        --------------  ----- \n",
      " 0   CustomerID    200 non-null    object\n",
      " 1   CustomerName  200 non-null    object\n",
      " 2   Region        200 non-null    object\n",
      " 3   SignupDate    200 non-null    object\n",
      "dtypes: object(4)\n",
      "memory usage: 6.4+ KB\n",
      "None\n",
      "\n",
      "Products Dataset Info:\n",
      "<class 'pandas.core.frame.DataFrame'>\n",
      "RangeIndex: 100 entries, 0 to 99\n",
      "Data columns (total 4 columns):\n",
      " #   Column       Non-Null Count  Dtype  \n",
      "---  ------       --------------  -----  \n",
      " 0   ProductID    100 non-null    object \n",
      " 1   ProductName  100 non-null    object \n",
      " 2   Category     100 non-null    object \n",
      " 3   Price        100 non-null    float64\n",
      "dtypes: float64(1), object(3)\n",
      "memory usage: 3.3+ KB\n",
      "None\n",
      "\n",
      "Transactions Dataset Info:\n",
      "<class 'pandas.core.frame.DataFrame'>\n",
      "RangeIndex: 1000 entries, 0 to 999\n",
      "Data columns (total 7 columns):\n",
      " #   Column           Non-Null Count  Dtype  \n",
      "---  ------           --------------  -----  \n",
      " 0   TransactionID    1000 non-null   object \n",
      " 1   CustomerID       1000 non-null   object \n",
      " 2   ProductID        1000 non-null   object \n",
      " 3   TransactionDate  1000 non-null   object \n",
      " 4   Quantity         1000 non-null   int64  \n",
      " 5   TotalValue       1000 non-null   float64\n",
      " 6   Price            1000 non-null   float64\n",
      "dtypes: float64(2), int64(1), object(4)\n",
      "memory usage: 54.8+ KB\n",
      "None\n"
     ]
    }
   ],
   "source": [
    "def display_info():\n",
    "    print(\"Customers Dataset Info:\")\n",
    "    print(customers.info())\n",
    "    print(\"\\nProducts Dataset Info:\")\n",
    "    print(products.info())\n",
    "    print(\"\\nTransactions Dataset Info:\")\n",
    "    print(transactions.info())\n",
    "\n",
    "display_info()"
   ]
  },
  {
   "cell_type": "code",
   "execution_count": 27,
   "id": "50863493-d919-4500-82d9-cb3a11d31a96",
   "metadata": {},
   "outputs": [
    {
     "name": "stdout",
     "output_type": "stream",
     "text": [
      "\n",
      "Merged Dataset Sample:\n",
      "  TransactionID CustomerID ProductID      TransactionDate  Quantity  \\\n",
      "0        T00001      C0199      P067  2024-08-25 12:38:23         1   \n",
      "1        T00112      C0146      P067  2024-05-27 22:23:54         1   \n",
      "2        T00166      C0127      P067  2024-04-25 07:38:55         1   \n",
      "3        T00272      C0087      P067  2024-03-26 22:55:37         2   \n",
      "4        T00363      C0070      P067  2024-03-21 15:10:10         3   \n",
      "\n",
      "   TotalValue  Price_x     CustomerName         Region  SignupDate  \\\n",
      "0      300.68   300.68   Andrea Jenkins         Europe  2022-12-03   \n",
      "1      300.68   300.68  Brittany Harvey           Asia  2024-09-04   \n",
      "2      300.68   300.68  Kathryn Stevens         Europe  2024-04-04   \n",
      "3      601.36   300.68  Travis Campbell  South America  2024-04-11   \n",
      "4      902.04   300.68    Timothy Perez         Europe  2022-03-15   \n",
      "\n",
      "                       ProductName     Category  Price_y  \n",
      "0  ComfortLiving Bluetooth Speaker  Electronics   300.68  \n",
      "1  ComfortLiving Bluetooth Speaker  Electronics   300.68  \n",
      "2  ComfortLiving Bluetooth Speaker  Electronics   300.68  \n",
      "3  ComfortLiving Bluetooth Speaker  Electronics   300.68  \n",
      "4  ComfortLiving Bluetooth Speaker  Electronics   300.68  \n"
     ]
    }
   ],
   "source": [
    "# Merge datasets for comprehensive analysis\n",
    "merged_data = transactions.merge(customers, on=\"CustomerID\").merge(products, on=\"ProductID\")\n",
    "print(\"\\nMerged Dataset Sample:\")\n",
    "print(merged_data.head())"
   ]
  },
  {
   "cell_type": "code",
   "execution_count": 29,
   "id": "04be3880-7f1d-462d-a983-4f60ae9ab3a3",
   "metadata": {},
   "outputs": [
    {
     "name": "stdout",
     "output_type": "stream",
     "text": [
      "\n",
      "Missing Values:\n",
      "TransactionID      0\n",
      "CustomerID         0\n",
      "ProductID          0\n",
      "TransactionDate    0\n",
      "Quantity           0\n",
      "TotalValue         0\n",
      "Price_x            0\n",
      "CustomerName       0\n",
      "Region             0\n",
      "SignupDate         0\n",
      "ProductName        0\n",
      "Category           0\n",
      "Price_y            0\n",
      "dtype: int64\n"
     ]
    }
   ],
   "source": [
    "# Check for missing values\n",
    "print(\"\\nMissing Values:\")\n",
    "print(merged_data.isnull().sum())"
   ]
  },
  {
   "cell_type": "code",
   "execution_count": 31,
   "id": "118ddbb9-71d0-4471-a1b1-0ac571493856",
   "metadata": {},
   "outputs": [],
   "source": [
    "# Drop missing values for simplicity\n",
    "merged_data.dropna(inplace=True)"
   ]
  },
  {
   "cell_type": "code",
   "execution_count": 51,
   "id": "22f09ac7-855a-45d8-87d9-80b07ef41316",
   "metadata": {},
   "outputs": [],
   "source": [
    "# Convert date columns to datetime\n",
    "merged_data['TransactionDate'] = pd.to_datetime(merged_data['TransactionDate'])"
   ]
  },
  {
   "cell_type": "code",
   "execution_count": 53,
   "id": "b71357b3-eccc-40d6-aaed-12dc1b3bd8af",
   "metadata": {
    "scrolled": true
   },
   "outputs": [
    {
     "name": "stderr",
     "output_type": "stream",
     "text": [
      "C:\\Users\\roxna\\AppData\\Local\\Temp\\ipykernel_4792\\227061116.py:5: FutureWarning: \n",
      "\n",
      "Passing `palette` without assigning `hue` is deprecated and will be removed in v0.14.0. Assign the `x` variable to `hue` and set `legend=False` for the same effect.\n",
      "\n",
      "  sns.countplot(data=customers, x=\"Region\", order=customers['Region'].value_counts().index, palette=\"viridis\")\n"
     ]
    },
    {
     "data": {
      "image/png": "[encoded data removed]",
      "text/plain": [
       "<Figure size 1000x600 with 1 Axes>"
      ]
     },
     "metadata": {},
     "output_type": "display_data"
    }
   ],
   "source": [
    "# Step 2: Exploratory Data Analysis (EDA)\n",
    "\n",
    "# Visualize customer distribution by region\n",
    "plt.figure(figsize=(10, 6))\n",
    "sns.countplot(data=customers, x=\"Region\", order=customers['Region'].value_counts().index, palette=\"viridis\")\n",
    "plt.title(\"Customer Distribution by Region\", fontsize=16)\n",
    "plt.xticks(rotation=45)\n",
    "plt.show()"
   ]
  },
  {
   "cell_type": "code",
   "execution_count": 55,
   "id": "5a83c927-996c-49f6-bf11-0071533ab3a2",
   "metadata": {},
   "outputs": [
    {
     "data": {
      "image/png": "[encoded data removed]",
      "text/plain": [
       "<Figure size 1000x600 with 1 Axes>"
      ]
     },
     "metadata": {},
     "output_type": "display_data"
    }
   ],
   "source": [
    "# Analyze top products by quantity sold\n",
    "top_products = merged_data.groupby(\"ProductName\")['Quantity'].sum().sort_values(ascending=False).head(10)\n",
    "top_products.plot(kind='bar', title=\"Top 10 Products by Quantity Sold\", figsize=(10, 6), color='skyblue')\n",
    "plt.xlabel(\"Product Name\")\n",
    "plt.ylabel(\"Quantity Sold\")\n",
    "plt.show()"
   ]
  },
  {
   "cell_type": "code",
   "execution_count": 56,
   "id": "aa325a74-bf87-4aa9-b158-a45c89cb30d0",
   "metadata": {},
   "outputs": [
    {
     "data": {
      "image/png": "[encoded data removed]",
      "text/plain": [
       "<Figure size 1000x600 with 1 Axes>"
      ]
     },
     "metadata": {},
     "output_type": "display_data"
    }
   ],
   "source": [
    "# Monthly revenue trend\n",
    "monthly_revenue = merged_data.groupby(merged_data['TransactionDate'].dt.to_period('M'))['TotalValue'].sum()\n",
    "monthly_revenue.plot(title=\"Monthly Revenue Trend\", figsize=(10, 6), color='green')\n",
    "plt.xlabel(\"Month\")\n",
    "plt.ylabel(\"Total Revenue (USD)\")\n",
    "plt.show()"
   ]
  },
  {
   "cell_type": "code",
   "execution_count": 59,
   "id": "5b1fcb84-0521-401f-bbb5-f751a35e5abc",
   "metadata": {},
   "outputs": [
    {
     "data": {
      "image/png": "[encoded data removed]",
      "text/plain": [
       "<Figure size 640x480 with 1 Axes>"
      ]
     },
     "metadata": {},
     "output_type": "display_data"
    }
   ],
   "source": [
    "# Detect and visualize outliers using Isolation Forest\n",
    "isolation_forest = IsolationForest(contamination=0.05, random_state=42)\n",
    "outlier_predictions = isolation_forest.fit_predict(merged_data[['Quantity', 'Price_x', 'TotalValue']])\n",
    "merged_data['Outlier'] = outlier_predictions\n",
    "sns.scatterplot(data=merged_data, x='Price_x', y='TotalValue', hue='Outlier', palette='coolwarm')\n",
    "plt.title(\"Outliers in Price vs Total Value\")\n",
    "plt.show()"
   ]
  },
  {
   "cell_type": "code",
   "execution_count": 61,
   "id": "30295f43-5702-47ac-bd6a-0f74fe70d0c3",
   "metadata": {},
   "outputs": [
    {
     "data": {
      "image/png": "[encoded data removed]",
      "text/plain": [
       "<Figure size 1000x600 with 2 Axes>"
      ]
     },
     "metadata": {},
     "output_type": "display_data"
    }
   ],
   "source": [
    "# Correlation heatmap\n",
    "plt.figure(figsize=(10, 6))\n",
    "sns.heatmap(merged_data[['Quantity', 'Price_x', 'TotalValue']].corr(), annot=True, cmap='coolwarm')\n",
    "plt.title(\"Correlation Heatmap\")\n",
    "plt.show()"
   ]
  },
  {
   "cell_type": "code",
   "execution_count": 63,
   "id": "0b5ef777-6078-4525-b522-9fe9402dc33e",
   "metadata": {},
   "outputs": [
    {
     "data": {
      "image/png": "[encoded data removed]",
      "text/plain": [
       "<Figure size 1000x600 with 1 Axes>"
      ]
     },
     "metadata": {},
     "output_type": "display_data"
    }
   ],
   "source": [
    "# Revenue forecasting with ARIMA\n",
    "monthly_revenue_ts = monthly_revenue.to_timestamp()\n",
    "model = ARIMA(monthly_revenue_ts, order=(1, 1, 1))\n",
    "fit_model = model.fit()\n",
    "forecast = fit_model.forecast(steps=6)\n",
    "plt.figure(figsize=(10, 6))\n",
    "plt.plot(monthly_revenue_ts, label=\"Historical Revenue\")\n",
    "plt.plot(forecast, label=\"Forecasted Revenue\", linestyle='--', color='red')\n",
    "plt.title(\"Revenue Forecasting\")\n",
    "plt.legend()\n",
    "plt.show()"
   ]
  },
  {
   "cell_type": "code",
   "execution_count": 65,
   "id": "97c2039b-c0a3-4384-bf62-06ef169acdfd",
   "metadata": {},
   "outputs": [
    {
     "name": "stdout",
     "output_type": "stream",
     "text": [
      "Number of churned customers: 185\n"
     ]
    }
   ],
   "source": [
    "# Churn analysis: Identify inactive customers\n",
    "recent_date = merged_data['TransactionDate'].max()\n",
    "merged_data['DaysSinceLastPurchase'] = (recent_date - merged_data['TransactionDate']).dt.days\n",
    "churn_threshold = 180  # Days since last purchase to define churn\n",
    "churned_customers = merged_data[merged_data['DaysSinceLastPurchase'] > churn_threshold]['CustomerID'].unique()\n",
    "print(f\"Number of churned customers: {len(churned_customers)}\")"
   ]
  },
  {
   "cell_type": "code",
   "execution_count": 67,
   "id": "079dcbb9-99c7-428c-a71a-0bb2fd491389",
   "metadata": {
    "scrolled": true
   },
   "outputs": [
    {
     "name": "stdout",
     "output_type": "stream",
     "text": [
      "\n",
      "Key Business Insights:\n",
      "1. Region X contributes the highest number of customers, highlighting a potential area for focused marketing.\n",
      "2. Product Y is the most popular; maintaining inventory and running promotions for it could boost sales.\n",
      "3. Revenue trends suggest seasonal peaks. Align promotional campaigns with these periods.\n",
      "4. Customers from Region Z have higher average spending, indicating an opportunity for premium offerings.\n",
      "5. Strong correlation between product price and transaction value suggests pricing strategies play a key role in customer decisions.\n",
      "6. Outliers detected in transaction data may indicate anomalies or fraudulent activities.\n",
      "7. Revenue forecasting indicates steady growth; align marketing efforts accordingly.\n",
      "8. Churn analysis shows X inactive customers, providing an opportunity for reactivation campaigns.\n"
     ]
    }
   ],
   "source": [
    "# Insights (Summary)\n",
    "insights = [\n",
    "    \"1. Region X contributes the highest number of customers, highlighting a potential area for focused marketing.\",\n",
    "    \"2. Product Y is the most popular; maintaining inventory and running promotions for it could boost sales.\",\n",
    "    \"3. Revenue trends suggest seasonal peaks. Align promotional campaigns with these periods.\",\n",
    "    \"4. Customers from Region Z have higher average spending, indicating an opportunity for premium offerings.\",\n",
    "    \"5. Strong correlation between product price and transaction value suggests pricing strategies play a key role in customer decisions.\",\n",
    "    \"6. Outliers detected in transaction data may indicate anomalies or fraudulent activities.\",\n",
    "    \"7. Revenue forecasting indicates steady growth; align marketing efforts accordingly.\",\n",
    "    \"8. Churn analysis shows X inactive customers, providing an opportunity for reactivation campaigns.\"\n",
    "]\n",
    "\n",
    "print(\"\\nKey Business Insights:\")\n",
    "for insight in insights:\n",
    "    print(insight)"
   ]
  },
  {
   "cell_type": "code",
   "execution_count": 69,
   "id": "0e94b86e-f70d-4dc4-81ec-7b7667b46999",
   "metadata": {},
   "outputs": [],
   "source": [
    "# Step 3: Lookalike Model\n",
    "\n",
    "# Feature engineering for customer behavior analysis\n",
    "customer_features = merged_data.groupby(\"CustomerID\").agg({\n",
    "    \"TotalValue\": \"sum\",\n",
    "    \"Quantity\": \"sum\",\n",
    "    \"Price_x\": \"mean\",\n",
    "    \"DaysSinceLastPurchase\": \"min\"\n",
    "}).reset_index()"
   ]
  },
  {
   "cell_type": "code",
   "execution_count": 71,
   "id": "4f058b0e-dae2-4ac5-91ea-0eb1bae49608",
   "metadata": {},
   "outputs": [],
   "source": [
    "# Scale features\n",
    "scaler = StandardScaler()\n",
    "scaled_features = scaler.fit_transform(customer_features.iloc[:, 1:])"
   ]
  },
  {
   "cell_type": "code",
   "execution_count": 73,
   "id": "193fc942-802c-4fc3-b460-cfdb572fec3a",
   "metadata": {},
   "outputs": [],
   "source": [
    "# Compute similarity matrix\n",
    "similarity_matrix = cosine_similarity(scaled_features)"
   ]
  },
  {
   "cell_type": "code",
   "execution_count": 75,
   "id": "ac0ac059-f9fd-4fd2-8f28-5421d9f590f3",
   "metadata": {},
   "outputs": [],
   "source": [
    "# Generate lookalike recommendations\n",
    "lookalikes = {}\n",
    "for idx, customer_id in enumerate(customer_features[\"CustomerID\"]):\n",
    "    similarity_scores = list(enumerate(similarity_matrix[idx]))\n",
    "    similarity_scores = sorted(similarity_scores, key=lambda x: x[1], reverse=True)[1:4]\n",
    "    lookalikes[customer_id] = [(customer_features.iloc[i[0]][\"CustomerID\"], i[1]) for i in similarity_scores]"
   ]
  },
  {
   "cell_type": "code",
   "execution_count": 81,
   "id": "2b51f26c-502a-4385-9133-1638e5b75996",
   "metadata": {},
   "outputs": [],
   "source": [
    "# Format lookalike data for CSV\n",
    "lookalike_data = []\n",
    "for cust_id, recommendations in lookalikes.items():\n",
    "    for rec_cust_id, score in recommendations:\n",
    "        lookalike_data.append([cust_id, rec_cust_id, score])\n",
    "\n",
    "lookalike_df = pd.DataFrame(lookalike_data, columns=[\"CustomerID\", \"SimilarCustomerID\", \"SimilarityScore\"])\n",
    "lookalike_df.to_csv(r\"C:\\Users\\roxna\\Downloads\\Data_Intern\\Lookalike.csv\", index=False)"
   ]
  },
  {
   "cell_type": "code",
   "execution_count": 99,
   "id": "e0dfe9cb-2d45-48e4-933d-e211474f7348",
   "metadata": {},
   "outputs": [],
   "source": [
    "# Step 4: Customer Segmentation\n",
    "# Combine features for clustering\n",
    "clustering_data = customer_features.copy()\n",
    "scaled_clustering_data = scaler.fit_transform(clustering_data.iloc[:, 1:])"
   ]
  },
  {
   "cell_type": "code",
   "execution_count": 101,
   "id": "071f133f-fbb5-4e28-b6f4-ea35f5543e60",
   "metadata": {},
   "outputs": [
    {
     "name": "stderr",
     "output_type": "stream",
     "text": [
      "C:\\anaconda\\Lib\\site-packages\\sklearn\\cluster\\_kmeans.py:1429: UserWarning: KMeans is known to have a memory leak on Windows with MKL, when there are less chunks than available threads. You can avoid it by setting the environment variable OMP_NUM_THREADS=1.\n",
      "  warnings.warn(\n"
     ]
    }
   ],
   "source": [
    "# Perform clustering with K-Means\n",
    "kmeans = KMeans(n_clusters=5, random_state=42)\n",
    "clustering_data[\"Cluster\"] = kmeans.fit_predict(scaled_clustering_data)"
   ]
  },
  {
   "cell_type": "code",
   "execution_count": 103,
   "id": "b29f1009-55da-442c-9af2-b401b6cd8f8a",
   "metadata": {},
   "outputs": [
    {
     "name": "stdout",
     "output_type": "stream",
     "text": [
      "Davies-Bouldin Index: 1.2106915032096284\n"
     ]
    }
   ],
   "source": [
    "# Evaluate clustering\n",
    "db_index = davies_bouldin_score(scaled_clustering_data, clustering_data[\"Cluster\"])\n",
    "print(f\"Davies-Bouldin Index: {db_index}\")"
   ]
  },
  {
   "cell_type": "code",
   "execution_count": 109,
   "id": "dec62afb-8f51-4331-ae64-065fb9f202d8",
   "metadata": {},
   "outputs": [],
   "source": [
    "from sklearn.decomposition import PCA\n",
    "\n",
    "# Example PCA Transformation\n",
    "pca = PCA(n_components=3)\n",
    "reduced_data = pca.fit_transform(scaled_clustering_data)\n",
    "\n",
    "# Add PCA components to DataFrame\n",
    "clustering_data['PCA1'] = reduced_data[:, 0]\n",
    "clustering_data['PCA2'] = reduced_data[:, 1]\n",
    "clustering_data['PCA3'] = reduced_data[:, 2]\n"
   ]
  },
  {
   "cell_type": "code",
   "execution_count": 115,
   "id": "486313e5-5110-442f-b455-8bf648b48a6d",
   "metadata": {},
   "outputs": [
    {
     "data": {
      "application/vnd.plotly.v1+json": {
       "config": {
        "plotlyServerURL": "https://plot.ly"
       },
       "data": [
        {
         "customdata": [
          [
           "C0001"
          ],
          [
           "C0002"
          ],
          [
           "C0003"
          ],
          [
           "C0004"
          ],
          [
           "C0005"
          ],
          [
           "C0006"
          ],
          [
           "C0007"
          ],
          [
           "C0008"
          ],
          [
           "C0009"
          ],
          [
           "C0010"
          ],
          [
           "C0011"
          ],
          [
           "C0012"
          ],
          [
           "C0013"
          ],
          [
           "C0014"
          ],
          [
           "C0015"
          ],
          [
           "C0016"
          ],
          [
           "C0017"
          ],
          [
           "C0018"
          ],
          [
           "C0019"
          ],
          [
           "C0020"
          ],
          [
           "C0021"
          ],
          [
           "C0022"
          ],
          [
           "C0023"
          ],
          [
           "C0024"
          ],
          [
           "C0025"
          ],
          [
           "C0026"
          ],
          [
           "C0027"
          ],
          [
           "C0028"
          ],
          [
           "C0029"
          ],
          [
           "C0030"
          ],
          [
           "C0031"
          ],
          [
           "C0032"
          ],
          [
           "C0033"
          ],
          [
           "C0034"
          ],
          [
           "C0035"
          ],
          [
           "C0036"
          ],
          [
           "C0037"
          ],
          [
           "C0038"
          ],
          [
           "C0039"
          ],
          [
           "C0040"
          ],
          [
           "C0041"
          ],
          [
           "C0042"
          ],
          [
           "C0043"
          ],
          [
           "C0044"
          ],
          [
           "C0045"
          ],
          [
           "C0046"
          ],
          [
           "C0047"
          ],
          [
           "C0048"
          ],
          [
           "C0049"
          ],
          [
           "C0050"
          ],
          [
           "C0051"
          ],
          [
           "C0052"
          ],
          [
           "C0053"
          ],
          [
           "C0054"
          ],
          [
           "C0055"
          ],
          [
           "C0056"
          ],
          [
           "C0057"
          ],
          [
           "C0058"
          ],
          [
           "C0059"
          ],
          [
           "C0060"
          ],
          [
           "C0061"
          ],
          [
           "C0062"
          ],
          [
           "C0063"
          ],
          [
           "C0064"
          ],
          [
           "C0065"
          ],
          [
           "C0066"
          ],
          [
           "C0067"
          ],
          [
           "C0068"
          ],
          [
           "C0069"
          ],
          [
           "C0070"
          ],
          [
           "C0071"
          ],
          [
           "C0072"
          ],
          [
           "C0073"
          ],
          [
           "C0074"
          ],
          [
           "C0075"
          ],
          [
           "C0076"
          ],
          [
           "C0077"
          ],
          [
           "C0078"
          ],
          [
           "C0079"
          ],
          [
           "C0080"
          ],
          [
           "C0081"
          ],
          [
           "C0082"
          ],
          [
           "C0083"
          ],
          [
           "C0084"
          ],
          [
           "C0085"
          ],
          [
           "C0086"
          ],
          [
           "C0087"
          ],
          [
           "C0088"
          ],
          [
           "C0089"
          ],
          [
           "C0090"
          ],
          [
           "C0091"
          ],
          [
           "C0092"
          ],
          [
           "C0093"
          ],
          [
           "C0094"
          ],
          [
           "C0095"
          ],
          [
           "C0096"
          ],
          [
           "C0097"
          ],
          [
           "C0098"
          ],
          [
           "C0099"
          ],
          [
           "C0100"
          ],
          [
           "C0101"
          ],
          [
           "C0102"
          ],
          [
           "C0103"
          ],
          [
           "C0104"
          ],
          [
           "C0105"
          ],
          [
           "C0106"
          ],
          [
           "C0107"
          ],
          [
           "C0108"
          ],
          [
           "C0109"
          ],
          [
           "C0110"
          ],
          [
           "C0111"
          ],
          [
           "C0112"
          ],
          [
           "C0113"
          ],
          [
           "C0114"
          ],
          [
           "C0115"
          ],
          [
           "C0116"
          ],
          [
           "C0117"
          ],
          [
           "C0118"
          ],
          [
           "C0119"
          ],
          [
           "C0120"
          ],
          [
           "C0121"
          ],
          [
           "C0122"
          ],
          [
           "C0123"
          ],
          [
           "C0124"
          ],
          [
           "C0125"
          ],
          [
           "C0126"
          ],
          [
           "C0127"
          ],
          [
           "C0128"
          ],
          [
           "C0129"
          ],
          [
           "C0130"
          ],
          [
           "C0131"
          ],
          [
           "C0132"
          ],
          [
           "C0133"
          ],
          [
           "C0134"
          ],
          [
           "C0135"
          ],
          [
           "C0136"
          ],
          [
           "C0137"
          ],
          [
           "C0138"
          ],
          [
           "C0139"
          ],
          [
           "C0140"
          ],
          [
           "C0141"
          ],
          [
           "C0142"
          ],
          [
           "C0143"
          ],
          [
           "C0144"
          ],
          [
           "C0145"
          ],
          [
           "C0146"
          ],
          [
           "C0147"
          ],
          [
           "C0148"
          ],
          [
           "C0149"
          ],
          [
           "C0150"
          ],
          [
           "C0151"
          ],
          [
           "C0152"
          ],
          [
           "C0153"
          ],
          [
           "C0154"
          ],
          [
           "C0155"
          ],
          [
           "C0156"
          ],
          [
           "C0157"
          ],
          [
           "C0158"
          ],
          [
           "C0159"
          ],
          [
           "C0160"
          ],
          [
           "C0161"
          ],
          [
           "C0162"
          ],
          [
           "C0163"
          ],
          [
           "C0164"
          ],
          [
           "C0165"
          ],
          [
           "C0166"
          ],
          [
           "C0167"
          ],
          [
           "C0168"
          ],
          [
           "C0169"
          ],
          [
           "C0170"
          ],
          [
           "C0171"
          ],
          [
           "C0172"
          ],
          [
           "C0173"
          ],
          [
           "C0174"
          ],
          [
           "C0175"
          ],
          [
           "C0176"
          ],
          [
           "C0177"
          ],
          [
           "C0178"
          ],
          [
           "C0179"
          ],
          [
           "C0181"
          ],
          [
           "C0182"
          ],
          [
           "C0183"
          ],
          [
           "C0184"
          ],
          [
           "C0185"
          ],
          [
           "C0186"
          ],
          [
           "C0187"
          ],
          [
           "C0188"
          ],
          [
           "C0189"
          ],
          [
           "C0190"
          ],
          [
           "C0191"
          ],
          [
           "C0192"
          ],
          [
           "C0193"
          ],
          [
           "C0194"
          ],
          [
           "C0195"
          ],
          [
           "C0196"
          ],
          [
           "C0197"
          ],
          [
           "C0198"
          ],
          [
           "C0199"
          ],
          [
           "C0200"
          ]
         ],
         "hovertemplate": "PCA1=%{x}<br>PCA2=%{y}<br>PCA3=%{z}<br>CustomerID=%{customdata[0]}<br>Cluster=%{marker.color}<extra></extra>",
         "legendgroup": "",
         "marker": {
          "color": [
           1,
           2,
           2,
           0,
           1,
           1,
           1,
           0,
           1,
           2,
           1,
           0,
           4,
           3,
           1,
           1,
           0,
           4,
           2,
           3,
           4,
           4,
           4,
           1,
           2,
           1,
           2,
           0,
           2,
           2,
           2,
           2,
           3,
           2,
           2,
           2,
           1,
           2,
           0,
           1,
           0,
           1,
           2,
           1,
           4,
           4,
           2,
           1,
           2,
           1,
           4,
           2,
           4,
           4,
           2,
           1,
           0,
           3,
           4,
           2,
           1,
           3,
           2,
           1,
           0,
           1,
           1,
           0,
           1,
           1,
           2,
           2,
           3,
           1,
           0,
           2,
           2,
           1,
           1,
           3,
           2,
           4,
           2,
           0,
           1,
           2,
           4,
           2,
           1,
           4,
           2,
           1,
           4,
           2,
           2,
           4,
           3,
           2,
           4,
           4,
           0,
           4,
           1,
           4,
           4,
           2,
           1,
           4,
           0,
           3,
           2,
           3,
           0,
           4,
           1,
           1,
           1,
           1,
           2,
           1,
           2,
           4,
           1,
           4,
           1,
           1,
           1,
           3,
           2,
           3,
           1,
           2,
           1,
           2,
           1,
           0,
           1,
           4,
           1,
           1,
           4,
           2,
           0,
           3,
           4,
           1,
           2,
           4,
           4,
           3,
           2,
           1,
           4,
           1,
           4,
           0,
           2,
           1,
           2,
           2,
           2,
           0,
           4,
           1,
           0,
           2,
           1,
           1,
           0,
           4,
           4,
           2,
           4,
           2,
           0,
           2,
           2,
           2,
           2,
           2,
           4,
           1,
           1,
           1,
           1,
           1,
           4,
           2,
           2,
           1,
           1,
           3,
           2,
           0,
           1,
           2,
           2,
           2,
           4
          ],
          "coloraxis": "coloraxis",
          "line": {
           "color": "DarkSlateGrey",
           "width": 0.5
          },
          "size": 6,
          "symbol": "circle"
         },
         "mode": "markers",
         "name": "",
         "scene": "scene",
         "showlegend": false,
         "type": "scatter3d",
         "x": [
          0.008128426104262162,
          -0.7855219394325136,
          -0.6605506353003049,
          1.9792344539201803,
          -0.9154589381650439,
          0.34609799841740224,
          -0.8159032772758666,
          1.2240760109438977,
          -1.8230218410508963,
          -0.9027437323263465,
          0.5751964858387545,
          1.6359412102719633,
          1.6891342773737,
          -4.031116091306562,
          -1.558712600752131,
          0.4010617803909,
          1.397352404410696,
          0.5486334827963394,
          -0.602632450333253,
          -3.170976724264406,
          1.2236976100474344,
          0.5263984061506992,
          1.269956402758579,
          0.15900442133402523,
          -1.7685351642485456,
          0.06914355665627914,
          -0.5371766525659906,
          2.7608591920283665,
          -0.6919423053818818,
          -0.12967945945884402,
          -0.69488758838916,
          -1.8271181851672378,
          -3.4788302804753917,
          0.08500950355260133,
          -0.7855636075989032,
          -1.0835906723317106,
          0.4171005214156864,
          -0.159902833822556,
          0.6944963544199702,
          -0.16803322982016422,
          2.262423736108911,
          -0.46382181381821963,
          -1.9142179823864103,
          -0.1158073244731386,
          1.659988367910213,
          1.3427596327853295,
          -0.5289979398685217,
          0.6085672622305933,
          -0.5976722843529279,
          -0.03567203115005084,
          1.59815627844157,
          -0.9391683992426901,
          1.2232446307781266,
          2.908035353376727,
          -0.5072574543127202,
          0.3319406140939756,
          1.0295850420263708,
          -3.254751805897401,
          2.4302418027531933,
          -3.258940252522328,
          -0.7774173741892609,
          -1.8335356801470468,
          -1.8141677781093863,
          0.5885650845915218,
          3.261469547260231,
          -0.08187153113357269,
          0.40428822837232936,
          2.1477636984047344,
          -0.14987597723973856,
          -0.20663925874844769,
          -1.8811601572982959,
          -0.2417806959538516,
          -1.9780798867717644,
          -0.7027909058509151,
          2.5190173804274942,
          -0.33332906172568266,
          -1.737875020439203,
          -0.9244548326721688,
          0.07366290171208885,
          -2.816134036009019,
          0.17331938375933517,
          2.9989077713460337,
          -1.7859713001360853,
          1.2567137574739313,
          -0.6488670701553625,
          0.09765443125699687,
          1.9575669186074627,
          -0.5509910175007575,
          -0.35751936104254856,
          0.3008891570573074,
          -0.14431626042062518,
          -0.008984975355168276,
          1.1241987789195933,
          -1.4525959256433814,
          -1.815130771844743,
          1.8962761463051931,
          -3.9150046029552046,
          0.3787732654538031,
          2.5013145308673175,
          0.7193645439996486,
          1.865873918088869,
          1.6225478510047826,
          -0.858501940163061,
          2.2363084370645385,
          0.5374130674335107,
          -0.03646070236438369,
          0.13037143458266562,
          0.7113707671005765,
          2.5413431418330266,
          -3.4423832128514436,
          -0.36708885630447635,
          -1.759072576121159,
          1.4807959990181634,
          1.4201807880454065,
          0.15460136295759724,
          -0.26000177559286053,
          -0.16855219205239333,
          0.1926052387366919,
          -1.3005463553297036,
          -1.0145789038802875,
          -1.971290521134214,
          1.4130786908522694,
          -1.4174519367058056,
          0.8411099921514331,
          -0.5923718900463134,
          0.7391318671156052,
          -0.23532670886623583,
          -2.5926526961546803,
          -0.8303273982015407,
          -2.8340862938597047,
          -0.6289557524598314,
          -0.806177230391384,
          0.00787808651183293,
          0.007439691492791569,
          -0.3615983736689507,
          1.038759404141326,
          0.20902396761108014,
          1.765763608841228,
          0.1595182464672368,
          -1.284421888425946,
          4.632422924142424,
          -0.4840531842957584,
          2.0961727234437078,
          -2.5184864692628213,
          1.8316769748580375,
          -0.23489578366429492,
          0.19571100275461034,
          1.2820513622244434,
          0.33374548605326826,
          -2.8160996867313153,
          -2.34795163129924,
          -0.28906838967015136,
          0.7018030228231334,
          -0.12511928517579735,
          1.4946811298943077,
          3.4001165960747253,
          -0.7948397337197102,
          -0.11741610367416337,
          -0.7349878744844125,
          -0.508651649333407,
          -0.4251547348220936,
          1.3305136013445151,
          1.5037206001176115,
          -0.2969648536188925,
          3.0604174107388946,
          -0.5886829774278916,
          -0.9110452226562057,
          0.9549509217185882,
          1.1266380988177138,
          0.7467332338809325,
          1.0330929825445,
          -0.7296419635392225,
          1.3805285304505774,
          -0.09305815328176674,
          2.46669085069265,
          -1.2661116691166316,
          -0.6466909642833174,
          -0.4164946233199616,
          0.12272843290794366,
          0.5628249577717588,
          0.10751696742956375,
          0.30785904626815797,
          -0.18858391937775335,
          -0.343724513298171,
          -0.9842901427435446,
          0.6035163296249056,
          2.685169484604845,
          -0.2820296242325924,
          0.12229826742290008,
          0.013036080092012584,
          -1.338453385879186,
          -1.1287692612953615,
          0.22297825344099748,
          0.7271005401612806,
          1.2630116595241392,
          -0.6687067131464793,
          -2.040017014142006,
          -0.9152586187983844,
          1.1737605516737128
         ],
         "y": [
          -0.0026654441209810822,
          -1.0893819455731768,
          -0.782330535383749,
          -1.012964093624613,
          0.24220266938388957,
          0.8941852645594343,
          1.3817851525744678,
          -1.067009741122464,
          0.5210828089457977,
          -1.7900418477963647,
          -0.12356707273979685,
          -0.4996965314796591,
          0.5174456678559082,
          0.23234818351680325,
          1.3431044273552315,
          1.4981143733627176,
          -1.0518206371289403,
          0.08761538953881225,
          -0.5605129880649193,
          2.0532935930283243,
          0.4771367816682583,
          0.25532594142117326,
          1.4900482691325123,
          0.4112811432418184,
          -0.7505808126538741,
          0.6216867440141491,
          -0.5085059695552729,
          -0.3357251980127131,
          -1.2368288837585413,
          -1.036971319557937,
          -0.7084581162957543,
          -1.3172195473593393,
          -1.904467038432722,
          -1.2159634645794937,
          -0.35838278922966404,
          -0.6136210048382996,
          0.43888504393731503,
          -1.2950011199413267,
          -0.9005002402643634,
          2.219481349309701,
          -0.7353231843359956,
          1.795040875643799,
          -0.8465749764238734,
          2.147019021193667,
          0.041538011806243245,
          0.2637591702946767,
          0.025158699776288755,
          0.8392493424456259,
          -1.4220571275109217,
          1.5208594852609996,
          0.24162638355142363,
          -0.05372581622168671,
          -0.37987642764018104,
          0.7206022990101343,
          -0.484637816357528,
          0.07337759945303139,
          -0.5084270275126509,
          3.196439163264989,
          0.984513631027985,
          -2.5544596002960533,
          0.08726649619302833,
          -0.13515164136099206,
          -0.5629629423037799,
          0.029537389713553457,
          -0.48247976943266613,
          2.1147252065077895,
          0.1739766252349591,
          -0.7323528007014394,
          -0.1240862889227674,
          0.15256479574956183,
          -0.779993360650978,
          -0.9442319812097839,
          0.878378851990539,
          1.9212573254404093,
          -1.3536666706965441,
          -0.34161072749762617,
          -1.3762616931422,
          2.7597472090106514,
          1.613593180143631,
          2.180799382525377,
          -0.6238278128672137,
          0.7041567328106811,
          -1.2207857992541407,
          -1.1618975757025578,
          1.158689403451116,
          -0.7107956913127896,
          0.3900001094095001,
          -0.8505834071561218,
          0.9377507081316238,
          -0.217835144781199,
          -1.5645410347499635,
          0.08648803647509894,
          0.08633103253492501,
          -1.6069269061985547,
          -0.49686179157394567,
          1.051039885301048,
          -0.381941269065784,
          -0.517505143844731,
          0.10247962238958495,
          1.3300401004072133,
          -0.5303999622527724,
          0.449854497283862,
          0.8108531790747374,
          0.5809911241528856,
          0.042209401489950914,
          -0.7030996034351018,
          0.41559203491839863,
          -0.10601274527765636,
          -1.6035553834435459,
          1.2567241496164423,
          -2.445290986770236,
          -0.26402979798258847,
          -1.1252146886884,
          0.8497483994076862,
          1.2403805404419963,
          0.26788942014247125,
          0.7990978356688255,
          0.2716356872116145,
          -1.1433317341819178,
          0.7728766225600505,
          -1.9378445666229551,
          -0.1158046777489508,
          0.13458925068842417,
          -0.22862869635827843,
          0.905087458644716,
          0.1417763799588487,
          0.8102970495319692,
          1.3858176841275998,
          -0.044866160755837645,
          1.3910449329898837,
          0.25274229797054354,
          -0.4017408035596282,
          0.16229738682735456,
          -1.827563365195323,
          0.5002731117993461,
          -1.296233207639027,
          -0.12031163712034067,
          0.5576695702375966,
          0.4489439300045732,
          0.3586389362943812,
          1.1945413541955832,
          -1.4221125795133607,
          -0.4674612857232859,
          -0.4245114694925129,
          -0.09856502590866494,
          0.567430236155752,
          -0.985063718312848,
          0.46597238983132877,
          0.33797734626704407,
          1.1951502154625209,
          -3.055963898939578,
          0.0012109801324994285,
          0.12366820464168003,
          0.6232754507817121,
          0.7909284239439573,
          -0.358586773697733,
          -1.2769372305552313,
          1.7103746899318113,
          -0.6006632235191504,
          -0.2124131412822911,
          -0.1412814412262226,
          -0.5460244123033737,
          0.24560759116938774,
          0.041273184463889924,
          -1.6250149444863378,
          -0.36678785506738015,
          0.3613984083747938,
          1.7633322297555436,
          -1.444491503630814,
          0.8874347844402842,
          0.6317762119657178,
          -1.022033149391462,
          0.35916866741574843,
          -0.8596121094811005,
          -0.6118861089662164,
          -0.49105553769828697,
          -0.19119045339669496,
          -0.8076508927673435,
          -0.16520076176682352,
          -0.5834892319678616,
          0.8284980087225796,
          0.22498234181418456,
          1.1032082007037645,
          1.8232689151445058,
          0.6247586662471705,
          1.6922436747959664,
          0.222032696371256,
          -1.0557531382309155,
          -1.0771954068002025,
          -0.15373591531987021,
          0.6715547024411211,
          0.7080154091517997,
          -0.3777071455555312,
          -0.8238610522086265,
          1.6456332969302936,
          -0.9567416574852342,
          -0.1870711976504204,
          -0.3046405422599922,
          -0.022547149414963337
         ],
         "z": [
          -0.3139654736093632,
          -0.676102665484703,
          0.9256989424775127,
          0.19563186479654893,
          -0.8695709541331683,
          -0.12120224211736991,
          -0.16244863387838382,
          -0.008016618244411572,
          -1.0285623854887869,
          -0.13153365179166032,
          -0.8934452143016363,
          -0.21344104246652817,
          0.2167426511767105,
          2.634436524554009,
          -0.944160180783645,
          -0.974781642403837,
          0.32004935882323604,
          1.4290046625579231,
          -0.4208090290964744,
          1.9596121144881282,
          0.392604844528851,
          0.5837220418667896,
          -0.5716857163357364,
          0.21534877732700808,
          0.5951115801010295,
          -0.1754368545228075,
          0.042554606517943384,
          0.22501377910207065,
          -0.9532297579108017,
          -0.6056790513815029,
          -0.6794058162883782,
          -0.9573931150142573,
          1.0253563475562457,
          0.4527493809644018,
          0.049297606842578647,
          -0.525707730011597,
          0.2248058729728803,
          -0.46114717756154067,
          0.5221591249225098,
          0.36927945378204496,
          0.3360833118168117,
          -1.4986978954117525,
          -0.051403544922760884,
          -1.180157445953192,
          1.5684990125618787,
          0.8333132742026644,
          0.6388440235238374,
          -0.9777680904537162,
          1.1626572150534389,
          -1.306447243091397,
          -0.4359883977173995,
          0.32386976061996753,
          0.4417062139635509,
          1.1215229805262725,
          0.2340377196627933,
          -1.1013028825062259,
          -0.38373932598350163,
          1.3256376517746342,
          0.5047941096341113,
          0.4362751996366114,
          -1.355370000643147,
          0.8651007721028413,
          -0.271202258000597,
          -0.6355369660324347,
          0.7104326923403979,
          -0.23461561136609432,
          0.07272333824000957,
          0.13056179755550745,
          -0.9541631832365632,
          -0.04819555238717108,
          0.38913057705646875,
          0.01448520000306775,
          2.2110284371037463,
          0.09395397175537401,
          0.8164429961496842,
          -0.8069716574448998,
          -0.4688747465610366,
          -2.6804402538617746,
          0.5628912768694497,
          1.3337990288505415,
          -0.04738919431764104,
          0.27153425866754555,
          -1.3208201105257862,
          0.05382870476268698,
          -0.7896009878500959,
          -0.8414796015658859,
          1.242096775748698,
          -0.8832140003988898,
          -1.4489003862899423,
          0.7999884146787636,
          1.7258126672747567,
          -1.0903785349871224,
          0.9670705706340571,
          -0.26443916412270063,
          -0.337955622851542,
          -0.5972326367818132,
          1.8806803666969467,
          -0.7699296885348502,
          -0.07860865690954277,
          0.38581278056189316,
          -0.14398991199278743,
          1.26158414460145,
          -0.5346939110992049,
          0.4173561650170482,
          0.9262471354571883,
          -0.4135897275119552,
          -0.2685611448034442,
          0.5858142079078161,
          1.5071514066007636,
          2.6700021137135845,
          -0.02268870137820955,
          0.963768449943959,
          0.458812179841257,
          0.6273904582161346,
          -1.6776876741502247,
          -0.5010457381861628,
          0.736675222934125,
          -1.1161939545347657,
          -1.2881359443929252,
          0.32110745841177724,
          0.3004048897999105,
          -0.3760355645278105,
          -1.2153272208307215,
          0.6219944512486771,
          0.18249736955782808,
          -0.47953127764448394,
          -0.06636501479668416,
          0.5596726970096525,
          -0.28974556421349595,
          0.6340385544004749,
          -1.5234016702212414,
          -1.0758666650434094,
          -0.9534836739460335,
          -0.08816680323606985,
          -0.21161493366138512,
          0.6237005010136517,
          -1.027113272618712,
          -0.530550516215007,
          0.014818631700459916,
          -0.768128850147147,
          0.7368671181187235,
          -0.7511010179355376,
          0.0858987539398498,
          1.9226546801991145,
          0.1785124969089505,
          -1.4728075934798666,
          -0.6497153811257054,
          0.57468674965423,
          0.7754682114194987,
          0.5491943712488357,
          -0.8254636026471899,
          -0.22587922881208,
          0.8237964254946236,
          0.07786331655110912,
          -0.14150595938523658,
          0.6948399808239331,
          -0.6754699222519593,
          -0.2959568532154957,
          -1.0648087518459124,
          0.8778146344361465,
          0.9011410055588841,
          0.30549439135847006,
          0.6291693904782437,
          -0.454740981872763,
          0.9425068879159845,
          -0.23369587435056732,
          -0.3656561413419128,
          -0.5199466016076496,
          0.3501323898952128,
          0.47049037431920715,
          0.031193439351447794,
          -0.4930420896931614,
          1.1936399997520435,
          -0.6335453008806172,
          0.8034031517844032,
          1.3241908636210242,
          -0.5407138014545069,
          -0.9354049916592885,
          0.21988749390196868,
          -0.7228587440245728,
          2.3349500138108166,
          -0.4668041384610849,
          0.020132970334696357,
          -0.06670305066249649,
          -0.8998844329827972,
          -0.46216316103515387,
          -0.09842138975796388,
          -0.7616669442638345,
          -0.48661674405591776,
          -0.9178462192816333,
          0.3555461406581961,
          1.5358751742257588,
          0.16599794412330024,
          0.027085020111847772,
          -1.2211139475713577,
          -1.1059053674153412,
          -0.671259023767234,
          -0.4622856790477763,
          -0.4118147981851449
         ]
        }
       ],
       "layout": {
        "autosize": true,
        "coloraxis": {
         "colorbar": {
          "title": {
           "text": "Cluster"
          }
         },
         "colorscale": [
          [
           0,
           "#440154"
          ],
          [
           0.1111111111111111,
           "#482878"
          ],
          [
           0.2222222222222222,
           "#3e4989"
          ],
          [
           0.3333333333333333,
           "#31688e"
          ],
          [
           0.4444444444444444,
           "#26828e"
          ],
          [
           0.5555555555555556,
           "#1f9e89"
          ],
          [
           0.6666666666666666,
           "#35b779"
          ],
          [
           0.7777777777777778,
           "#6ece58"
          ],
          [
           0.8888888888888888,
           "#b5de2b"
          ],
          [
           1,
           "#fde725"
          ]
         ]
        },
        "legend": {
         "title": {
          "text": "Cluster"
         },
         "tracegroupgap": 0
        },
        "margin": {
         "b": 0,
         "l": 0,
         "r": 0,
         "t": 30
        },
        "scene": {
         "aspectmode": "auto",
         "aspectratio": {
          "x": 1.3091357150654406,
          "y": 0.9447922077941179,
          "z": 0.8084981417295772
         },
         "camera": {
          "center": {
           "x": 0,
           "y": 0,
           "z": 0
          },
          "eye": {
           "x": 0.86319495947483,
           "y": 0.8631949594748299,
           "z": 0.86319495947483
          },
          "projection": {
           "type": "perspective"
          },
          "up": {
           "x": 0,
           "y": 0,
           "z": 1
          }
         },
         "domain": {
          "x": [
           0,
           1
          ],
          "y": [
           0,
           1
          ]
         },
         "xaxis": {
          "title": {
           "text": "PCA1"
          },
          "type": "linear"
         },
         "yaxis": {
          "title": {
           "text": "PCA2"
          },
          "type": "linear"
         },
         "zaxis": {
          "title": {
           "text": "PCA3"
          },
          "type": "linear"
         }
        },
        "template": {
         "data": {
          "bar": [
           {
            "error_x": {
             "color": "#2a3f5f"
            },
            "error_y": {
             "color": "#2a3f5f"
            },
            "marker": {
             "line": {
              "color": "#E5ECF6",
              "width": 0.5
             },
             "pattern": {
              "fillmode": "overlay",
              "size": 10,
              "solidity": 0.2
             }
            },
            "type": "bar"
           }
          ],
          "barpolar": [
           {
            "marker": {
             "line": {
              "color": "#E5ECF6",
              "width": 0.5
             },
             "pattern": {
              "fillmode": "overlay",
              "size": 10,
              "solidity": 0.2
             }
            },
            "type": "barpolar"
           }
          ],
          "carpet": [
           {
            "aaxis": {
             "endlinecolor": "#2a3f5f",
             "gridcolor": "white",
             "linecolor": "white",
             "minorgridcolor": "white",
             "startlinecolor": "#2a3f5f"
            },
            "baxis": {
             "endlinecolor": "#2a3f5f",
             "gridcolor": "white",
             "linecolor": "white",
             "minorgridcolor": "white",
             "startlinecolor": "#2a3f5f"
            },
            "type": "carpet"
           }
          ],
          "choropleth": [
           {
            "colorbar": {
             "outlinewidth": 0,
             "ticks": ""
            },
            "type": "choropleth"
           }
          ],
          "contour": [
           {
            "colorbar": {
             "outlinewidth": 0,
             "ticks": ""
            },
            "colorscale": [
             [
              0,
              "#0d0887"
             ],
             [
              0.1111111111111111,
              "#46039f"
             ],
             [
              0.2222222222222222,
              "#7201a8"
             ],
             [
              0.3333333333333333,
              "#9c179e"
             ],
             [
              0.4444444444444444,
              "#bd3786"
             ],
             [
              0.5555555555555556,
              "#d8576b"
             ],
             [
              0.6666666666666666,
              "#ed7953"
             ],
             [
              0.7777777777777778,
              "#fb9f3a"
             ],
             [
              0.8888888888888888,
              "#fdca26"
             ],
             [
              1,
              "#f0f921"
             ]
            ],
            "type": "contour"
           }
          ],
          "contourcarpet": [
           {
            "colorbar": {
             "outlinewidth": 0,
             "ticks": ""
            },
            "type": "contourcarpet"
           }
          ],
          "heatmap": [
           {
            "colorbar": {
             "outlinewidth": 0,
             "ticks": ""
            },
            "colorscale": [
             [
              0,
              "#0d0887"
             ],
             [
              0.1111111111111111,
              "#46039f"
             ],
             [
              0.2222222222222222,
              "#7201a8"
             ],
             [
              0.3333333333333333,
              "#9c179e"
             ],
             [
              0.4444444444444444,
              "#bd3786"
             ],
             [
              0.5555555555555556,
              "#d8576b"
             ],
             [
              0.6666666666666666,
              "#ed7953"
             ],
             [
              0.7777777777777778,
              "#fb9f3a"
             ],
             [
              0.8888888888888888,
              "#fdca26"
             ],
             [
              1,
              "#f0f921"
             ]
            ],
            "type": "heatmap"
           }
          ],
          "heatmapgl": [
           {
            "colorbar": {
             "outlinewidth": 0,
             "ticks": ""
            },
            "colorscale": [
             [
              0,
              "#0d0887"
             ],
             [
              0.1111111111111111,
              "#46039f"
             ],
             [
              0.2222222222222222,
              "#7201a8"
             ],
             [
              0.3333333333333333,
              "#9c179e"
             ],
             [
              0.4444444444444444,
              "#bd3786"
             ],
             [
              0.5555555555555556,
              "#d8576b"
             ],
             [
              0.6666666666666666,
              "#ed7953"
             ],
             [
              0.7777777777777778,
              "#fb9f3a"
             ],
             [
              0.8888888888888888,
              "#fdca26"
             ],
             [
              1,
              "#f0f921"
             ]
            ],
            "type": "heatmapgl"
           }
          ],
          "histogram": [
           {
            "marker": {
             "pattern": {
              "fillmode": "overlay",
              "size": 10,
              "solidity": 0.2
             }
            },
            "type": "histogram"
           }
          ],
          "histogram2d": [
           {
            "colorbar": {
             "outlinewidth": 0,
             "ticks": ""
            },
            "colorscale": [
             [
              0,
              "#0d0887"
             ],
             [
              0.1111111111111111,
              "#46039f"
             ],
             [
              0.2222222222222222,
              "#7201a8"
             ],
             [
              0.3333333333333333,
              "#9c179e"
             ],
             [
              0.4444444444444444,
              "#bd3786"
             ],
             [
              0.5555555555555556,
              "#d8576b"
             ],
             [
              0.6666666666666666,
              "#ed7953"
             ],
             [
              0.7777777777777778,
              "#fb9f3a"
             ],
             [
              0.8888888888888888,
              "#fdca26"
             ],
             [
              1,
              "#f0f921"
             ]
            ],
            "type": "histogram2d"
           }
          ],
          "histogram2dcontour": [
           {
            "colorbar": {
             "outlinewidth": 0,
             "ticks": ""
            },
            "colorscale": [
             [
              0,
              "#0d0887"
             ],
             [
              0.1111111111111111,
              "#46039f"
             ],
             [
              0.2222222222222222,
              "#7201a8"
             ],
             [
              0.3333333333333333,
              "#9c179e"
             ],
             [
              0.4444444444444444,
              "#bd3786"
             ],
             [
              0.5555555555555556,
              "#d8576b"
             ],
             [
              0.6666666666666666,
              "#ed7953"
             ],
             [
              0.7777777777777778,
              "#fb9f3a"
             ],
             [
              0.8888888888888888,
              "#fdca26"
             ],
             [
              1,
              "#f0f921"
             ]
            ],
            "type": "histogram2dcontour"
           }
          ],
          "mesh3d": [
           {
            "colorbar": {
             "outlinewidth": 0,
             "ticks": ""
            },
            "type": "mesh3d"
           }
          ],
          "parcoords": [
           {
            "line": {
             "colorbar": {
              "outlinewidth": 0,
              "ticks": ""
             }
            },
            "type": "parcoords"
           }
          ],
          "pie": [
           {
            "automargin": true,
            "type": "pie"
           }
          ],
          "scatter": [
           {
            "fillpattern": {
             "fillmode": "overlay",
             "size": 10,
             "solidity": 0.2
            },
            "type": "scatter"
           }
          ],
          "scatter3d": [
           {
            "line": {
             "colorbar": {
              "outlinewidth": 0,
              "ticks": ""
             }
            },
            "marker": {
             "colorbar": {
              "outlinewidth": 0,
              "ticks": ""
             }
            },
            "type": "scatter3d"
           }
          ],
          "scattercarpet": [
           {
            "marker": {
             "colorbar": {
              "outlinewidth": 0,
              "ticks": ""
             }
            },
            "type": "scattercarpet"
           }
          ],
          "scattergeo": [
           {
            "marker": {
             "colorbar": {
              "outlinewidth": 0,
              "ticks": ""
             }
            },
            "type": "scattergeo"
           }
          ],
          "scattergl": [
           {
            "marker": {
             "colorbar": {
              "outlinewidth": 0,
              "ticks": ""
             }
            },
            "type": "scattergl"
           }
          ],
          "scattermapbox": [
           {
            "marker": {
             "colorbar": {
              "outlinewidth": 0,
              "ticks": ""
             }
            },
            "type": "scattermapbox"
           }
          ],
          "scatterpolar": [
           {
            "marker": {
             "colorbar": {
              "outlinewidth": 0,
              "ticks": ""
             }
            },
            "type": "scatterpolar"
           }
          ],
          "scatterpolargl": [
           {
            "marker": {
             "colorbar": {
              "outlinewidth": 0,
              "ticks": ""
             }
            },
            "type": "scatterpolargl"
           }
          ],
          "scatterternary": [
           {
            "marker": {
             "colorbar": {
              "outlinewidth": 0,
              "ticks": ""
             }
            },
            "type": "scatterternary"
           }
          ],
          "surface": [
           {
            "colorbar": {
             "outlinewidth": 0,
             "ticks": ""
            },
            "colorscale": [
             [
              0,
              "#0d0887"
             ],
             [
              0.1111111111111111,
              "#46039f"
             ],
             [
              0.2222222222222222,
              "#7201a8"
             ],
             [
              0.3333333333333333,
              "#9c179e"
             ],
             [
              0.4444444444444444,
              "#bd3786"
             ],
             [
              0.5555555555555556,
              "#d8576b"
             ],
             [
              0.6666666666666666,
              "#ed7953"
             ],
             [
              0.7777777777777778,
              "#fb9f3a"
             ],
             [
              0.8888888888888888,
              "#fdca26"
             ],
             [
              1,
              "#f0f921"
             ]
            ],
            "type": "surface"
           }
          ],
          "table": [
           {
            "cells": {
             "fill": {
              "color": "#EBF0F8"
             },
             "line": {
              "color": "white"
             }
            },
            "header": {
             "fill": {
              "color": "#C8D4E3"
             },
             "line": {
              "color": "white"
             }
            },
            "type": "table"
           }
          ]
         },
         "layout": {
          "annotationdefaults": {
           "arrowcolor": "#2a3f5f",
           "arrowhead": 0,
           "arrowwidth": 1
          },
          "autotypenumbers": "strict",
          "coloraxis": {
           "colorbar": {
            "outlinewidth": 0,
            "ticks": ""
           }
          },
          "colorscale": {
           "diverging": [
            [
             0,
             "#8e0152"
            ],
            [
             0.1,
             "#c51b7d"
            ],
            [
             0.2,
             "#de77ae"
            ],
            [
             0.3,
             "#f1b6da"
            ],
            [
             0.4,
             "#fde0ef"
            ],
            [
             0.5,
             "#f7f7f7"
            ],
            [
             0.6,
             "#e6f5d0"
            ],
            [
             0.7,
             "#b8e186"
            ],
            [
             0.8,
             "#7fbc41"
            ],
            [
             0.9,
             "#4d9221"
            ],
            [
             1,
             "#276419"
            ]
           ],
           "sequential": [
            [
             0,
             "#0d0887"
            ],
            [
             0.1111111111111111,
             "#46039f"
            ],
            [
             0.2222222222222222,
             "#7201a8"
            ],
            [
             0.3333333333333333,
             "#9c179e"
            ],
            [
             0.4444444444444444,
             "#bd3786"
            ],
            [
             0.5555555555555556,
             "#d8576b"
            ],
            [
             0.6666666666666666,
             "#ed7953"
            ],
            [
             0.7777777777777778,
             "#fb9f3a"
            ],
            [
             0.8888888888888888,
             "#fdca26"
            ],
            [
             1,
             "#f0f921"
            ]
           ],
           "sequentialminus": [
            [
             0,
             "#0d0887"
            ],
            [
             0.1111111111111111,
             "#46039f"
            ],
            [
             0.2222222222222222,
             "#7201a8"
            ],
            [
             0.3333333333333333,
             "#9c179e"
            ],
            [
             0.4444444444444444,
             "#bd3786"
            ],
            [
             0.5555555555555556,
             "#d8576b"
            ],
            [
             0.6666666666666666,
             "#ed7953"
            ],
            [
             0.7777777777777778,
             "#fb9f3a"
            ],
            [
             0.8888888888888888,
             "#fdca26"
            ],
            [
             1,
             "#f0f921"
            ]
           ]
          },
          "colorway": [
           "#636efa",
           "#EF553B",
           "#00cc96",
           "#ab63fa",
           "#FFA15A",
           "#19d3f3",
           "#FF6692",
           "#B6E880",
           "#FF97FF",
           "#FECB52"
          ],
          "font": {
           "color": "#2a3f5f"
          },
          "geo": {
           "bgcolor": "white",
           "lakecolor": "white",
           "landcolor": "#E5ECF6",
           "showlakes": true,
           "showland": true,
           "subunitcolor": "white"
          },
          "hoverlabel": {
           "align": "left"
          },
          "hovermode": "closest",
          "mapbox": {
           "style": "light"
          },
          "paper_bgcolor": "white",
          "plot_bgcolor": "#E5ECF6",
          "polar": {
           "angularaxis": {
            "gridcolor": "white",
            "linecolor": "white",
            "ticks": ""
           },
           "bgcolor": "#E5ECF6",
           "radialaxis": {
            "gridcolor": "white",
            "linecolor": "white",
            "ticks": ""
           }
          },
          "scene": {
           "xaxis": {
            "backgroundcolor": "#E5ECF6",
            "gridcolor": "white",
            "gridwidth": 2,
            "linecolor": "white",
            "showbackground": true,
            "ticks": "",
            "zerolinecolor": "white"
           },
           "yaxis": {
            "backgroundcolor": "#E5ECF6",
            "gridcolor": "white",
            "gridwidth": 2,
            "linecolor": "white",
            "showbackground": true,
            "ticks": "",
            "zerolinecolor": "white"
           },
           "zaxis": {
            "backgroundcolor": "#E5ECF6",
            "gridcolor": "white",
            "gridwidth": 2,
            "linecolor": "white",
            "showbackground": true,
            "ticks": "",
            "zerolinecolor": "white"
           }
          },
          "shapedefaults": {
           "line": {
            "color": "#2a3f5f"
           }
          },
          "ternary": {
           "aaxis": {
            "gridcolor": "white",
            "linecolor": "white",
            "ticks": ""
           },
           "baxis": {
            "gridcolor": "white",
            "linecolor": "white",
            "ticks": ""
           },
           "bgcolor": "#E5ECF6",
           "caxis": {
            "gridcolor": "white",
            "linecolor": "white",
            "ticks": ""
           }
          },
          "title": {
           "x": 0.05
          },
          "xaxis": {
           "automargin": true,
           "gridcolor": "white",
           "linecolor": "white",
           "ticks": "",
           "title": {
            "standoff": 15
           },
           "zerolinecolor": "white",
           "zerolinewidth": 2
          },
          "yaxis": {
           "automargin": true,
           "gridcolor": "white",
           "linecolor": "white",
           "ticks": "",
           "title": {
            "standoff": 15
           },
           "zerolinecolor": "white",
           "zerolinewidth": 2
          }
         }
        },
        "title": {
         "text": "3D Visualization of Customer Segmentation"
        }
       }
      },
      "image/png": "[encoded data removed]",
      "text/html": [
       "<div>                            <div id=\"0d84a50d-e0d2-455f-a0bc-e4926ff4ec47\" class=\"plotly-graph-div\" style=\"height:525px; width:100%;\"></div>            <script type=\"text/javascript\">                require([\"plotly\"], function(Plotly) {                    window.PLOTLYENV=window.PLOTLYENV || {};                                    if (document.getElementById(\"0d84a50d-e0d2-455f-a0bc-e4926ff4ec47\")) {                    Plotly.newPlot(                        \"0d84a50d-e0d2-455f-a0bc-e4926ff4ec47\",                        [{\"customdata\":[[\"C0001\"],[\"C0002\"],[\"C0003\"],[\"C0004\"],[\"C0005\"],[\"C0006\"],[\"C0007\"],[\"C0008\"],[\"C0009\"],[\"C0010\"],[\"C0011\"],[\"C0012\"],[\"C0013\"],[\"C0014\"],[\"C0015\"],[\"C0016\"],[\"C0017\"],[\"C0018\"],[\"C0019\"],[\"C0020\"],[\"C0021\"],[\"C0022\"],[\"C0023\"],[\"C0024\"],[\"C0025\"],[\"C0026\"],[\"C0027\"],[\"C0028\"],[\"C0029\"],[\"C0030\"],[\"C0031\"],[\"C0032\"],[\"C0033\"],[\"C0034\"],[\"C0035\"],[\"C0036\"],[\"C0037\"],[\"C0038\"],[\"C0039\"],[\"C0040\"],[\"C0041\"],[\"C0042\"],[\"C0043\"],[\"C0044\"],[\"C0045\"],[\"C0046\"],[\"C0047\"],[\"C0048\"],[\"C0049\"],[\"C0050\"],[\"C0051\"],[\"C0052\"],[\"C0053\"],[\"C0054\"],[\"C0055\"],[\"C0056\"],[\"C0057\"],[\"C0058\"],[\"C0059\"],[\"C0060\"],[\"C0061\"],[\"C0062\"],[\"C0063\"],[\"C0064\"],[\"C0065\"],[\"C0066\"],[\"C0067\"],[\"C0068\"],[\"C0069\"],[\"C0070\"],[\"C0071\"],[\"C0072\"],[\"C0073\"],[\"C0074\"],[\"C0075\"],[\"C0076\"],[\"C0077\"],[\"C0078\"],[\"C0079\"],[\"C0080\"],[\"C0081\"],[\"C0082\"],[\"C0083\"],[\"C0084\"],[\"C0085\"],[\"C0086\"],[\"C0087\"],[\"C0088\"],[\"C0089\"],[\"C0090\"],[\"C0091\"],[\"C0092\"],[\"C0093\"],[\"C0094\"],[\"C0095\"],[\"C0096\"],[\"C0097\"],[\"C0098\"],[\"C0099\"],[\"C0100\"],[\"C0101\"],[\"C0102\"],[\"C0103\"],[\"C0104\"],[\"C0105\"],[\"C0106\"],[\"C0107\"],[\"C0108\"],[\"C0109\"],[\"C0110\"],[\"C0111\"],[\"C0112\"],[\"C0113\"],[\"C0114\"],[\"C0115\"],[\"C0116\"],[\"C0117\"],[\"C0118\"],[\"C0119\"],[\"C0120\"],[\"C0121\"],[\"C0122\"],[\"C0123\"],[\"C0124\"],[\"C0125\"],[\"C0126\"],[\"C0127\"],[\"C0128\"],[\"C0129\"],[\"C0130\"],[\"C0131\"],[\"C0132\"],[\"C0133\"],[\"C0134\"],[\"C0135\"],[\"C0136\"],[\"C0137\"],[\"C0138\"],[\"C0139\"],[\"C0140\"],[\"C0141\"],[\"C0142\"],[\"C0143\"],[\"C0144\"],[\"C0145\"],[\"C0146\"],[\"C0147\"],[\"C0148\"],[\"C0149\"],[\"C0150\"],[\"C0151\"],[\"C0152\"],[\"C0153\"],[\"C0154\"],[\"C0155\"],[\"C0156\"],[\"C0157\"],[\"C0158\"],[\"C0159\"],[\"C0160\"],[\"C0161\"],[\"C0162\"],[\"C0163\"],[\"C0164\"],[\"C0165\"],[\"C0166\"],[\"C0167\"],[\"C0168\"],[\"C0169\"],[\"C0170\"],[\"C0171\"],[\"C0172\"],[\"C0173\"],[\"C0174\"],[\"C0175\"],[\"C0176\"],[\"C0177\"],[\"C0178\"],[\"C0179\"],[\"C0181\"],[\"C0182\"],[\"C0183\"],[\"C0184\"],[\"C0185\"],[\"C0186\"],[\"C0187\"],[\"C0188\"],[\"C0189\"],[\"C0190\"],[\"C0191\"],[\"C0192\"],[\"C0193\"],[\"C0194\"],[\"C0195\"],[\"C0196\"],[\"C0197\"],[\"C0198\"],[\"C0199\"],[\"C0200\"]],\"hovertemplate\":\"PCA1=%{x}\\u003cbr\\u003ePCA2=%{y}\\u003cbr\\u003ePCA3=%{z}\\u003cbr\\u003eCustomerID=%{customdata[0]}\\u003cbr\\u003eCluster=%{marker.color}\\u003cextra\\u003e\\u003c\\u002fextra\\u003e\",\"legendgroup\":\"\",\"marker\":{\"color\":[1,2,2,0,1,1,1,0,1,2,1,0,4,3,1,1,0,4,2,3,4,4,4,1,2,1,2,0,2,2,2,2,3,2,2,2,1,2,0,1,0,1,2,1,4,4,2,1,2,1,4,2,4,4,2,1,0,3,4,2,1,3,2,1,0,1,1,0,1,1,2,2,3,1,0,2,2,1,1,3,2,4,2,0,1,2,4,2,1,4,2,1,4,2,2,4,3,2,4,4,0,4,1,4,4,2,1,4,0,3,2,3,0,4,1,1,1,1,2,1,2,4,1,4,1,1,1,3,2,3,1,2,1,2,1,0,1,4,1,1,4,2,0,3,4,1,2,4,4,3,2,1,4,1,4,0,2,1,2,2,2,0,4,1,0,2,1,1,0,4,4,2,4,2,0,2,2,2,2,2,4,1,1,1,1,1,4,2,2,1,1,3,2,0,1,2,2,2,4],\"coloraxis\":\"coloraxis\",\"symbol\":\"circle\",\"line\":{\"color\":\"DarkSlateGrey\",\"width\":0.5},\"size\":6},\"mode\":\"markers\",\"name\":\"\",\"scene\":\"scene\",\"showlegend\":false,\"x\":[0.008128426104262162,-0.7855219394325136,-0.6605506353003049,1.9792344539201803,-0.9154589381650439,0.34609799841740224,-0.8159032772758666,1.2240760109438977,-1.8230218410508963,-0.9027437323263465,0.5751964858387545,1.6359412102719633,1.6891342773737,-4.031116091306562,-1.558712600752131,0.4010617803909,1.397352404410696,0.5486334827963394,-0.602632450333253,-3.170976724264406,1.2236976100474344,0.5263984061506992,1.269956402758579,0.15900442133402523,-1.7685351642485456,0.06914355665627914,-0.5371766525659906,2.7608591920283665,-0.6919423053818818,-0.12967945945884402,-0.69488758838916,-1.8271181851672378,-3.4788302804753917,0.08500950355260133,-0.7855636075989032,-1.0835906723317106,0.4171005214156864,-0.159902833822556,0.6944963544199702,-0.16803322982016422,2.262423736108911,-0.46382181381821963,-1.9142179823864103,-0.1158073244731386,1.659988367910213,1.3427596327853295,-0.5289979398685217,0.6085672622305933,-0.5976722843529279,-0.03567203115005084,1.59815627844157,-0.9391683992426901,1.2232446307781266,2.908035353376727,-0.5072574543127202,0.3319406140939756,1.0295850420263708,-3.254751805897401,2.4302418027531933,-3.258940252522328,-0.7774173741892609,-1.8335356801470468,-1.8141677781093863,0.5885650845915218,3.261469547260231,-0.08187153113357269,0.40428822837232936,2.1477636984047344,-0.14987597723973856,-0.20663925874844769,-1.8811601572982959,-0.2417806959538516,-1.9780798867717644,-0.7027909058509151,2.5190173804274942,-0.33332906172568266,-1.737875020439203,-0.9244548326721688,0.07366290171208885,-2.816134036009019,0.17331938375933517,2.9989077713460337,-1.7859713001360853,1.2567137574739313,-0.6488670701553625,0.09765443125699687,1.9575669186074627,-0.5509910175007575,-0.35751936104254856,0.3008891570573074,-0.14431626042062518,-0.008984975355168276,1.1241987789195933,-1.4525959256433814,-1.815130771844743,1.8962761463051931,-3.9150046029552046,0.3787732654538031,2.5013145308673175,0.7193645439996486,1.865873918088869,1.6225478510047826,-0.858501940163061,2.2363084370645385,0.5374130674335107,-0.03646070236438369,0.13037143458266562,0.7113707671005765,2.5413431418330266,-3.4423832128514436,-0.36708885630447635,-1.759072576121159,1.4807959990181634,1.4201807880454065,0.15460136295759724,-0.26000177559286053,-0.16855219205239333,0.1926052387366919,-1.3005463553297036,-1.0145789038802875,-1.971290521134214,1.4130786908522694,-1.4174519367058056,0.8411099921514331,-0.5923718900463134,0.7391318671156052,-0.23532670886623583,-2.5926526961546803,-0.8303273982015407,-2.8340862938597047,-0.6289557524598314,-0.806177230391384,0.00787808651183293,0.007439691492791569,-0.3615983736689507,1.038759404141326,0.20902396761108014,1.765763608841228,0.1595182464672368,-1.284421888425946,4.632422924142424,-0.4840531842957584,2.0961727234437078,-2.5184864692628213,1.8316769748580375,-0.23489578366429492,0.19571100275461034,1.2820513622244434,0.33374548605326826,-2.8160996867313153,-2.34795163129924,-0.28906838967015136,0.7018030228231334,-0.12511928517579735,1.4946811298943077,3.4001165960747253,-0.7948397337197102,-0.11741610367416337,-0.7349878744844125,-0.508651649333407,-0.4251547348220936,1.3305136013445151,1.5037206001176115,-0.2969648536188925,3.0604174107388946,-0.5886829774278916,-0.9110452226562057,0.9549509217185882,1.1266380988177138,0.7467332338809325,1.0330929825445,-0.7296419635392225,1.3805285304505774,-0.09305815328176674,2.46669085069265,-1.2661116691166316,-0.6466909642833174,-0.4164946233199616,0.12272843290794366,0.5628249577717588,0.10751696742956375,0.30785904626815797,-0.18858391937775335,-0.343724513298171,-0.9842901427435446,0.6035163296249056,2.685169484604845,-0.2820296242325924,0.12229826742290008,0.013036080092012584,-1.338453385879186,-1.1287692612953615,0.22297825344099748,0.7271005401612806,1.2630116595241392,-0.6687067131464793,-2.040017014142006,-0.9152586187983844,1.1737605516737128],\"y\":[-0.0026654441209810822,-1.0893819455731768,-0.782330535383749,-1.012964093624613,0.24220266938388957,0.8941852645594343,1.3817851525744678,-1.067009741122464,0.5210828089457977,-1.7900418477963647,-0.12356707273979685,-0.4996965314796591,0.5174456678559082,0.23234818351680325,1.3431044273552315,1.4981143733627176,-1.0518206371289403,0.08761538953881225,-0.5605129880649193,2.0532935930283243,0.4771367816682583,0.25532594142117326,1.4900482691325123,0.4112811432418184,-0.7505808126538741,0.6216867440141491,-0.5085059695552729,-0.3357251980127131,-1.2368288837585413,-1.036971319557937,-0.7084581162957543,-1.3172195473593393,-1.904467038432722,-1.2159634645794937,-0.35838278922966404,-0.6136210048382996,0.43888504393731503,-1.2950011199413267,-0.9005002402643634,2.219481349309701,-0.7353231843359956,1.795040875643799,-0.8465749764238734,2.147019021193667,0.041538011806243245,0.2637591702946767,0.025158699776288755,0.8392493424456259,-1.4220571275109217,1.5208594852609996,0.24162638355142363,-0.05372581622168671,-0.37987642764018104,0.7206022990101343,-0.484637816357528,0.07337759945303139,-0.5084270275126509,3.196439163264989,0.984513631027985,-2.5544596002960533,0.08726649619302833,-0.13515164136099206,-0.5629629423037799,0.029537389713553457,-0.48247976943266613,2.1147252065077895,0.1739766252349591,-0.7323528007014394,-0.1240862889227674,0.15256479574956183,-0.779993360650978,-0.9442319812097839,0.878378851990539,1.9212573254404093,-1.3536666706965441,-0.34161072749762617,-1.3762616931422,2.7597472090106514,1.613593180143631,2.180799382525377,-0.6238278128672137,0.7041567328106811,-1.2207857992541407,-1.1618975757025578,1.158689403451116,-0.7107956913127896,0.3900001094095001,-0.8505834071561218,0.9377507081316238,-0.217835144781199,-1.5645410347499635,0.08648803647509894,0.08633103253492501,-1.6069269061985547,-0.49686179157394567,1.051039885301048,-0.381941269065784,-0.517505143844731,0.10247962238958495,1.3300401004072133,-0.5303999622527724,0.449854497283862,0.8108531790747374,0.5809911241528856,0.042209401489950914,-0.7030996034351018,0.41559203491839863,-0.10601274527765636,-1.6035553834435459,1.2567241496164423,-2.445290986770236,-0.26402979798258847,-1.1252146886884,0.8497483994076862,1.2403805404419963,0.26788942014247125,0.7990978356688255,0.2716356872116145,-1.1433317341819178,0.7728766225600505,-1.9378445666229551,-0.1158046777489508,0.13458925068842417,-0.22862869635827843,0.905087458644716,0.1417763799588487,0.8102970495319692,1.3858176841275998,-0.044866160755837645,1.3910449329898837,0.25274229797054354,-0.4017408035596282,0.16229738682735456,-1.827563365195323,0.5002731117993461,-1.296233207639027,-0.12031163712034067,0.5576695702375966,0.4489439300045732,0.3586389362943812,1.1945413541955832,-1.4221125795133607,-0.4674612857232859,-0.4245114694925129,-0.09856502590866494,0.567430236155752,-0.985063718312848,0.46597238983132877,0.33797734626704407,1.1951502154625209,-3.055963898939578,0.0012109801324994285,0.12366820464168003,0.6232754507817121,0.7909284239439573,-0.358586773697733,-1.2769372305552313,1.7103746899318113,-0.6006632235191504,-0.2124131412822911,-0.1412814412262226,-0.5460244123033737,0.24560759116938774,0.041273184463889924,-1.6250149444863378,-0.36678785506738015,0.3613984083747938,1.7633322297555436,-1.444491503630814,0.8874347844402842,0.6317762119657178,-1.022033149391462,0.35916866741574843,-0.8596121094811005,-0.6118861089662164,-0.49105553769828697,-0.19119045339669496,-0.8076508927673435,-0.16520076176682352,-0.5834892319678616,0.8284980087225796,0.22498234181418456,1.1032082007037645,1.8232689151445058,0.6247586662471705,1.6922436747959664,0.222032696371256,-1.0557531382309155,-1.0771954068002025,-0.15373591531987021,0.6715547024411211,0.7080154091517997,-0.3777071455555312,-0.8238610522086265,1.6456332969302936,-0.9567416574852342,-0.1870711976504204,-0.3046405422599922,-0.022547149414963337],\"z\":[-0.3139654736093632,-0.676102665484703,0.9256989424775127,0.19563186479654893,-0.8695709541331683,-0.12120224211736991,-0.16244863387838382,-0.008016618244411572,-1.0285623854887869,-0.13153365179166032,-0.8934452143016363,-0.21344104246652817,0.2167426511767105,2.634436524554009,-0.944160180783645,-0.974781642403837,0.32004935882323604,1.4290046625579231,-0.4208090290964744,1.9596121144881282,0.392604844528851,0.5837220418667896,-0.5716857163357364,0.21534877732700808,0.5951115801010295,-0.1754368545228075,0.042554606517943384,0.22501377910207065,-0.9532297579108017,-0.6056790513815029,-0.6794058162883782,-0.9573931150142573,1.0253563475562457,0.4527493809644018,0.049297606842578647,-0.525707730011597,0.2248058729728803,-0.46114717756154067,0.5221591249225098,0.36927945378204496,0.3360833118168117,-1.4986978954117525,-0.051403544922760884,-1.180157445953192,1.5684990125618787,0.8333132742026644,0.6388440235238374,-0.9777680904537162,1.1626572150534389,-1.306447243091397,-0.4359883977173995,0.32386976061996753,0.4417062139635509,1.1215229805262725,0.2340377196627933,-1.1013028825062259,-0.38373932598350163,1.3256376517746342,0.5047941096341113,0.4362751996366114,-1.355370000643147,0.8651007721028413,-0.271202258000597,-0.6355369660324347,0.7104326923403979,-0.23461561136609432,0.07272333824000957,0.13056179755550745,-0.9541631832365632,-0.04819555238717108,0.38913057705646875,0.01448520000306775,2.2110284371037463,0.09395397175537401,0.8164429961496842,-0.8069716574448998,-0.4688747465610366,-2.6804402538617746,0.5628912768694497,1.3337990288505415,-0.04738919431764104,0.27153425866754555,-1.3208201105257862,0.05382870476268698,-0.7896009878500959,-0.8414796015658859,1.242096775748698,-0.8832140003988898,-1.4489003862899423,0.7999884146787636,1.7258126672747567,-1.0903785349871224,0.9670705706340571,-0.26443916412270063,-0.337955622851542,-0.5972326367818132,1.8806803666969467,-0.7699296885348502,-0.07860865690954277,0.38581278056189316,-0.14398991199278743,1.26158414460145,-0.5346939110992049,0.4173561650170482,0.9262471354571883,-0.4135897275119552,-0.2685611448034442,0.5858142079078161,1.5071514066007636,2.6700021137135845,-0.02268870137820955,0.963768449943959,0.458812179841257,0.6273904582161346,-1.6776876741502247,-0.5010457381861628,0.736675222934125,-1.1161939545347657,-1.2881359443929252,0.32110745841177724,0.3004048897999105,-0.3760355645278105,-1.2153272208307215,0.6219944512486771,0.18249736955782808,-0.47953127764448394,-0.06636501479668416,0.5596726970096525,-0.28974556421349595,0.6340385544004749,-1.5234016702212414,-1.0758666650434094,-0.9534836739460335,-0.08816680323606985,-0.21161493366138512,0.6237005010136517,-1.027113272618712,-0.530550516215007,0.014818631700459916,-0.768128850147147,0.7368671181187235,-0.7511010179355376,0.0858987539398498,1.9226546801991145,0.1785124969089505,-1.4728075934798666,-0.6497153811257054,0.57468674965423,0.7754682114194987,0.5491943712488357,-0.8254636026471899,-0.22587922881208,0.8237964254946236,0.07786331655110912,-0.14150595938523658,0.6948399808239331,-0.6754699222519593,-0.2959568532154957,-1.0648087518459124,0.8778146344361465,0.9011410055588841,0.30549439135847006,0.6291693904782437,-0.454740981872763,0.9425068879159845,-0.23369587435056732,-0.3656561413419128,-0.5199466016076496,0.3501323898952128,0.47049037431920715,0.031193439351447794,-0.4930420896931614,1.1936399997520435,-0.6335453008806172,0.8034031517844032,1.3241908636210242,-0.5407138014545069,-0.9354049916592885,0.21988749390196868,-0.7228587440245728,2.3349500138108166,-0.4668041384610849,0.020132970334696357,-0.06670305066249649,-0.8998844329827972,-0.46216316103515387,-0.09842138975796388,-0.7616669442638345,-0.48661674405591776,-0.9178462192816333,0.3555461406581961,1.5358751742257588,0.16599794412330024,0.027085020111847772,-1.2211139475713577,-1.1059053674153412,-0.671259023767234,-0.4622856790477763,-0.4118147981851449],\"type\":\"scatter3d\"}],                        {\"template\":{\"data\":{\"histogram2dcontour\":[{\"type\":\"histogram2dcontour\",\"colorbar\":{\"outlinewidth\":0,\"ticks\":\"\"},\"colorscale\":[[0.0,\"#0d0887\"],[0.1111111111111111,\"#46039f\"],[0.2222222222222222,\"#7201a8\"],[0.3333333333333333,\"#9c179e\"],[0.4444444444444444,\"#bd3786\"],[0.5555555555555556,\"#d8576b\"],[0.6666666666666666,\"#ed7953\"],[0.7777777777777778,\"#fb9f3a\"],[0.8888888888888888,\"#fdca26\"],[1.0,\"#f0f921\"]]}],\"choropleth\":[{\"type\":\"choropleth\",\"colorbar\":{\"outlinewidth\":0,\"ticks\":\"\"}}],\"histogram2d\":[{\"type\":\"histogram2d\",\"colorbar\":{\"outlinewidth\":0,\"ticks\":\"\"},\"colorscale\":[[0.0,\"#0d0887\"],[0.1111111111111111,\"#46039f\"],[0.2222222222222222,\"#7201a8\"],[0.3333333333333333,\"#9c179e\"],[0.4444444444444444,\"#bd3786\"],[0.5555555555555556,\"#d8576b\"],[0.6666666666666666,\"#ed7953\"],[0.7777777777777778,\"#fb9f3a\"],[0.8888888888888888,\"#fdca26\"],[1.0,\"#f0f921\"]]}],\"heatmap\":[{\"type\":\"heatmap\",\"colorbar\":{\"outlinewidth\":0,\"ticks\":\"\"},\"colorscale\":[[0.0,\"#0d0887\"],[0.1111111111111111,\"#46039f\"],[0.2222222222222222,\"#7201a8\"],[0.3333333333333333,\"#9c179e\"],[0.4444444444444444,\"#bd3786\"],[0.5555555555555556,\"#d8576b\"],[0.6666666666666666,\"#ed7953\"],[0.7777777777777778,\"#fb9f3a\"],[0.8888888888888888,\"#fdca26\"],[1.0,\"#f0f921\"]]}],\"heatmapgl\":[{\"type\":\"heatmapgl\",\"colorbar\":{\"outlinewidth\":0,\"ticks\":\"\"},\"colorscale\":[[0.0,\"#0d0887\"],[0.1111111111111111,\"#46039f\"],[0.2222222222222222,\"#7201a8\"],[0.3333333333333333,\"#9c179e\"],[0.4444444444444444,\"#bd3786\"],[0.5555555555555556,\"#d8576b\"],[0.6666666666666666,\"#ed7953\"],[0.7777777777777778,\"#fb9f3a\"],[0.8888888888888888,\"#fdca26\"],[1.0,\"#f0f921\"]]}],\"contourcarpet\":[{\"type\":\"contourcarpet\",\"colorbar\":{\"outlinewidth\":0,\"ticks\":\"\"}}],\"contour\":[{\"type\":\"contour\",\"colorbar\":{\"outlinewidth\":0,\"ticks\":\"\"},\"colorscale\":[[0.0,\"#0d0887\"],[0.1111111111111111,\"#46039f\"],[0.2222222222222222,\"#7201a8\"],[0.3333333333333333,\"#9c179e\"],[0.4444444444444444,\"#bd3786\"],[0.5555555555555556,\"#d8576b\"],[0.6666666666666666,\"#ed7953\"],[0.7777777777777778,\"#fb9f3a\"],[0.8888888888888888,\"#fdca26\"],[1.0,\"#f0f921\"]]}],\"surface\":[{\"type\":\"surface\",\"colorbar\":{\"outlinewidth\":0,\"ticks\":\"\"},\"colorscale\":[[0.0,\"#0d0887\"],[0.1111111111111111,\"#46039f\"],[0.2222222222222222,\"#7201a8\"],[0.3333333333333333,\"#9c179e\"],[0.4444444444444444,\"#bd3786\"],[0.5555555555555556,\"#d8576b\"],[0.6666666666666666,\"#ed7953\"],[0.7777777777777778,\"#fb9f3a\"],[0.8888888888888888,\"#fdca26\"],[1.0,\"#f0f921\"]]}],\"mesh3d\":[{\"type\":\"mesh3d\",\"colorbar\":{\"outlinewidth\":0,\"ticks\":\"\"}}],\"scatter\":[{\"fillpattern\":{\"fillmode\":\"overlay\",\"size\":10,\"solidity\":0.2},\"type\":\"scatter\"}],\"parcoords\":[{\"type\":\"parcoords\",\"line\":{\"colorbar\":{\"outlinewidth\":0,\"ticks\":\"\"}}}],\"scatterpolargl\":[{\"type\":\"scatterpolargl\",\"marker\":{\"colorbar\":{\"outlinewidth\":0,\"ticks\":\"\"}}}],\"bar\":[{\"error_x\":{\"color\":\"#2a3f5f\"},\"error_y\":{\"color\":\"#2a3f5f\"},\"marker\":{\"line\":{\"color\":\"#E5ECF6\",\"width\":0.5},\"pattern\":{\"fillmode\":\"overlay\",\"size\":10,\"solidity\":0.2}},\"type\":\"bar\"}],\"scattergeo\":[{\"type\":\"scattergeo\",\"marker\":{\"colorbar\":{\"outlinewidth\":0,\"ticks\":\"\"}}}],\"scatterpolar\":[{\"type\":\"scatterpolar\",\"marker\":{\"colorbar\":{\"outlinewidth\":0,\"ticks\":\"\"}}}],\"histogram\":[{\"marker\":{\"pattern\":{\"fillmode\":\"overlay\",\"size\":10,\"solidity\":0.2}},\"type\":\"histogram\"}],\"scattergl\":[{\"type\":\"scattergl\",\"marker\":{\"colorbar\":{\"outlinewidth\":0,\"ticks\":\"\"}}}],\"scatter3d\":[{\"type\":\"scatter3d\",\"line\":{\"colorbar\":{\"outlinewidth\":0,\"ticks\":\"\"}},\"marker\":{\"colorbar\":{\"outlinewidth\":0,\"ticks\":\"\"}}}],\"scattermapbox\":[{\"type\":\"scattermapbox\",\"marker\":{\"colorbar\":{\"outlinewidth\":0,\"ticks\":\"\"}}}],\"scatterternary\":[{\"type\":\"scatterternary\",\"marker\":{\"colorbar\":{\"outlinewidth\":0,\"ticks\":\"\"}}}],\"scattercarpet\":[{\"type\":\"scattercarpet\",\"marker\":{\"colorbar\":{\"outlinewidth\":0,\"ticks\":\"\"}}}],\"carpet\":[{\"aaxis\":{\"endlinecolor\":\"#2a3f5f\",\"gridcolor\":\"white\",\"linecolor\":\"white\",\"minorgridcolor\":\"white\",\"startlinecolor\":\"#2a3f5f\"},\"baxis\":{\"endlinecolor\":\"#2a3f5f\",\"gridcolor\":\"white\",\"linecolor\":\"white\",\"minorgridcolor\":\"white\",\"startlinecolor\":\"#2a3f5f\"},\"type\":\"carpet\"}],\"table\":[{\"cells\":{\"fill\":{\"color\":\"#EBF0F8\"},\"line\":{\"color\":\"white\"}},\"header\":{\"fill\":{\"color\":\"#C8D4E3\"},\"line\":{\"color\":\"white\"}},\"type\":\"table\"}],\"barpolar\":[{\"marker\":{\"line\":{\"color\":\"#E5ECF6\",\"width\":0.5},\"pattern\":{\"fillmode\":\"overlay\",\"size\":10,\"solidity\":0.2}},\"type\":\"barpolar\"}],\"pie\":[{\"automargin\":true,\"type\":\"pie\"}]},\"layout\":{\"autotypenumbers\":\"strict\",\"colorway\":[\"#636efa\",\"#EF553B\",\"#00cc96\",\"#ab63fa\",\"#FFA15A\",\"#19d3f3\",\"#FF6692\",\"#B6E880\",\"#FF97FF\",\"#FECB52\"],\"font\":{\"color\":\"#2a3f5f\"},\"hovermode\":\"closest\",\"hoverlabel\":{\"align\":\"left\"},\"paper_bgcolor\":\"white\",\"plot_bgcolor\":\"#E5ECF6\",\"polar\":{\"bgcolor\":\"#E5ECF6\",\"angularaxis\":{\"gridcolor\":\"white\",\"linecolor\":\"white\",\"ticks\":\"\"},\"radialaxis\":{\"gridcolor\":\"white\",\"linecolor\":\"white\",\"ticks\":\"\"}},\"ternary\":{\"bgcolor\":\"#E5ECF6\",\"aaxis\":{\"gridcolor\":\"white\",\"linecolor\":\"white\",\"ticks\":\"\"},\"baxis\":{\"gridcolor\":\"white\",\"linecolor\":\"white\",\"ticks\":\"\"},\"caxis\":{\"gridcolor\":\"white\",\"linecolor\":\"white\",\"ticks\":\"\"}},\"coloraxis\":{\"colorbar\":{\"outlinewidth\":0,\"ticks\":\"\"}},\"colorscale\":{\"sequential\":[[0.0,\"#0d0887\"],[0.1111111111111111,\"#46039f\"],[0.2222222222222222,\"#7201a8\"],[0.3333333333333333,\"#9c179e\"],[0.4444444444444444,\"#bd3786\"],[0.5555555555555556,\"#d8576b\"],[0.6666666666666666,\"#ed7953\"],[0.7777777777777778,\"#fb9f3a\"],[0.8888888888888888,\"#fdca26\"],[1.0,\"#f0f921\"]],\"sequentialminus\":[[0.0,\"#0d0887\"],[0.1111111111111111,\"#46039f\"],[0.2222222222222222,\"#7201a8\"],[0.3333333333333333,\"#9c179e\"],[0.4444444444444444,\"#bd3786\"],[0.5555555555555556,\"#d8576b\"],[0.6666666666666666,\"#ed7953\"],[0.7777777777777778,\"#fb9f3a\"],[0.8888888888888888,\"#fdca26\"],[1.0,\"#f0f921\"]],\"diverging\":[[0,\"#8e0152\"],[0.1,\"#c51b7d\"],[0.2,\"#de77ae\"],[0.3,\"#f1b6da\"],[0.4,\"#fde0ef\"],[0.5,\"#f7f7f7\"],[0.6,\"#e6f5d0\"],[0.7,\"#b8e186\"],[0.8,\"#7fbc41\"],[0.9,\"#4d9221\"],[1,\"#276419\"]]},\"xaxis\":{\"gridcolor\":\"white\",\"linecolor\":\"white\",\"ticks\":\"\",\"title\":{\"standoff\":15},\"zerolinecolor\":\"white\",\"automargin\":true,\"zerolinewidth\":2},\"yaxis\":{\"gridcolor\":\"white\",\"linecolor\":\"white\",\"ticks\":\"\",\"title\":{\"standoff\":15},\"zerolinecolor\":\"white\",\"automargin\":true,\"zerolinewidth\":2},\"scene\":{\"xaxis\":{\"backgroundcolor\":\"#E5ECF6\",\"gridcolor\":\"white\",\"linecolor\":\"white\",\"showbackground\":true,\"ticks\":\"\",\"zerolinecolor\":\"white\",\"gridwidth\":2},\"yaxis\":{\"backgroundcolor\":\"#E5ECF6\",\"gridcolor\":\"white\",\"linecolor\":\"white\",\"showbackground\":true,\"ticks\":\"\",\"zerolinecolor\":\"white\",\"gridwidth\":2},\"zaxis\":{\"backgroundcolor\":\"#E5ECF6\",\"gridcolor\":\"white\",\"linecolor\":\"white\",\"showbackground\":true,\"ticks\":\"\",\"zerolinecolor\":\"white\",\"gridwidth\":2}},\"shapedefaults\":{\"line\":{\"color\":\"#2a3f5f\"}},\"annotationdefaults\":{\"arrowcolor\":\"#2a3f5f\",\"arrowhead\":0,\"arrowwidth\":1},\"geo\":{\"bgcolor\":\"white\",\"landcolor\":\"#E5ECF6\",\"subunitcolor\":\"white\",\"showland\":true,\"showlakes\":true,\"lakecolor\":\"white\"},\"title\":{\"x\":0.05},\"mapbox\":{\"style\":\"light\"}}},\"scene\":{\"domain\":{\"x\":[0.0,1.0],\"y\":[0.0,1.0]},\"xaxis\":{\"title\":{\"text\":\"PCA1\"}},\"yaxis\":{\"title\":{\"text\":\"PCA2\"}},\"zaxis\":{\"title\":{\"text\":\"PCA3\"}}},\"coloraxis\":{\"colorbar\":{\"title\":{\"text\":\"Cluster\"}},\"colorscale\":[[0.0,\"#440154\"],[0.1111111111111111,\"#482878\"],[0.2222222222222222,\"#3e4989\"],[0.3333333333333333,\"#31688e\"],[0.4444444444444444,\"#26828e\"],[0.5555555555555556,\"#1f9e89\"],[0.6666666666666666,\"#35b779\"],[0.7777777777777778,\"#6ece58\"],[0.8888888888888888,\"#b5de2b\"],[1.0,\"#fde725\"]]},\"legend\":{\"tracegroupgap\":0,\"title\":{\"text\":\"Cluster\"}},\"title\":{\"text\":\"3D Visualization of Customer Segmentation\"},\"margin\":{\"l\":0,\"r\":0,\"b\":0,\"t\":30}},                        {\"responsive\": true}                    ).then(function(){\n",
       "                            \n",
       "var gd = document.getElementById('0d84a50d-e0d2-455f-a0bc-e4926ff4ec47');\n",
       "var x = new MutationObserver(function (mutations, observer) {{\n",
       "        var display = window.getComputedStyle(gd).display;\n",
       "        if (!display || display === 'none') {{\n",
       "            console.log([gd, 'removed!']);\n",
       "            Plotly.purge(gd);\n",
       "            observer.disconnect();\n",
       "        }}\n",
       "}});\n",
       "\n",
       "// Listen for the removal of the full notebook cells\n",
       "var notebookContainer = gd.closest('#notebook-container');\n",
       "if (notebookContainer) {{\n",
       "    x.observe(notebookContainer, {childList: true});\n",
       "}}\n",
       "\n",
       "// Listen for the clearing of the current output cell\n",
       "var outputEl = gd.closest('.output');\n",
       "if (outputEl) {{\n",
       "    x.observe(outputEl, {childList: true});\n",
       "}}\n",
       "\n",
       "                        })                };                });            </script>        </div>"
      ]
     },
     "metadata": {},
     "output_type": "display_data"
    }
   ],
   "source": [
    "import plotly.express as px\n",
    "\n",
    "# Create a DataFrame for PCA components and clusters\n",
    "scatter_data = clustering_data[['PCA1', 'PCA2', 'PCA3', 'Cluster', 'CustomerID']].copy()\n",
    "\n",
    "# Create an interactive 3D scatter plot\n",
    "fig = px.scatter_3d(\n",
    "    scatter_data,\n",
    "    x='PCA1',\n",
    "    y='PCA2',\n",
    "    z='PCA3',\n",
    "    color='Cluster',\n",
    "    hover_data=['CustomerID'],\n",
    "    title=\"3D Visualization of Customer Segmentation\",\n",
    "    color_continuous_scale='Viridis'\n",
    ")\n",
    "\n",
    "# Customize layout\n",
    "fig.update_traces(marker=dict(size=6, line=dict(width=0.5, color='DarkSlateGrey')))\n",
    "fig.update_layout(\n",
    "    scene=dict(\n",
    "        xaxis_title='PCA1',\n",
    "        yaxis_title='PCA2',\n",
    "        zaxis_title='PCA3',\n",
    "    ),\n",
    "    legend_title=\"Cluster\",\n",
    "    margin=dict(l=0, r=0, b=0, t=30)\n",
    ")\n",
    "\n",
    "# Show the plot\n",
    "fig.show()\n"
   ]
  },
  {
   "cell_type": "code",
   "execution_count": 113,
   "id": "171edd13-1b38-4722-93b3-5ba29ed1b36d",
   "metadata": {},
   "outputs": [
    {
     "data": {
      "application/vnd.plotly.v1+json": {
       "config": {
        "plotlyServerURL": "https://plot.ly"
       },
       "data": [
        {
         "coloraxis": "coloraxis",
         "hovertemplate": "PCA Component: %{x}<br>Cluster: %{y}<br>Average Value: %{z}<extra></extra>",
         "name": "0",
         "texttemplate": "%{z:.2f}",
         "type": "heatmap",
         "x": [
          "PCA1",
          "PCA2",
          "PCA3"
         ],
         "xaxis": "x",
         "y": [
          0,
          1,
          2,
          3,
          4
         ],
         "yaxis": "y",
         "z": [
          [
           1.8827545683500702,
           -0.8815040344806409,
           0.36348006064641736
          ],
          [
           -0.20799858659252798,
           0.7804180560314847,
           -0.577871401658675
          ],
          [
           -0.7609656152667162,
           -0.8990374886356106,
           -0.24404053958700084
          ],
          [
           -2.771331953606885,
           0.7578606899559787,
           1.4713904855912316
          ],
          [
           1.4711138601401428,
           0.41390943160427524,
           0.5052751214679527
          ]
         ]
        }
       ],
       "layout": {
        "autosize": true,
        "coloraxis": {
         "colorbar": {
          "title": {
           "text": "Avg Value"
          }
         },
         "colorscale": [
          [
           0,
           "#440154"
          ],
          [
           0.1111111111111111,
           "#482878"
          ],
          [
           0.2222222222222222,
           "#3e4989"
          ],
          [
           0.3333333333333333,
           "#31688e"
          ],
          [
           0.4444444444444444,
           "#26828e"
          ],
          [
           0.5555555555555556,
           "#1f9e89"
          ],
          [
           0.6666666666666666,
           "#35b779"
          ],
          [
           0.7777777777777778,
           "#6ece58"
          ],
          [
           0.8888888888888888,
           "#b5de2b"
          ],
          [
           1,
           "#fde725"
          ]
         ]
        },
        "margin": {
         "b": 50,
         "l": 50,
         "r": 50,
         "t": 50
        },
        "paper_bgcolor": "white",
        "template": {
         "data": {
          "bar": [
           {
            "error_x": {
             "color": "#2a3f5f"
            },
            "error_y": {
             "color": "#2a3f5f"
            },
            "marker": {
             "line": {
              "color": "#E5ECF6",
              "width": 0.5
             },
             "pattern": {
              "fillmode": "overlay",
              "size": 10,
              "solidity": 0.2
             }
            },
            "type": "bar"
           }
          ],
          "barpolar": [
           {
            "marker": {
             "line": {
              "color": "#E5ECF6",
              "width": 0.5
             },
             "pattern": {
              "fillmode": "overlay",
              "size": 10,
              "solidity": 0.2
             }
            },
            "type": "barpolar"
           }
          ],
          "carpet": [
           {
            "aaxis": {
             "endlinecolor": "#2a3f5f",
             "gridcolor": "white",
             "linecolor": "white",
             "minorgridcolor": "white",
             "startlinecolor": "#2a3f5f"
            },
            "baxis": {
             "endlinecolor": "#2a3f5f",
             "gridcolor": "white",
             "linecolor": "white",
             "minorgridcolor": "white",
             "startlinecolor": "#2a3f5f"
            },
            "type": "carpet"
           }
          ],
          "choropleth": [
           {
            "colorbar": {
             "outlinewidth": 0,
             "ticks": ""
            },
            "type": "choropleth"
           }
          ],
          "contour": [
           {
            "colorbar": {
             "outlinewidth": 0,
             "ticks": ""
            },
            "colorscale": [
             [
              0,
              "#0d0887"
             ],
             [
              0.1111111111111111,
              "#46039f"
             ],
             [
              0.2222222222222222,
              "#7201a8"
             ],
             [
              0.3333333333333333,
              "#9c179e"
             ],
             [
              0.4444444444444444,
              "#bd3786"
             ],
             [
              0.5555555555555556,
              "#d8576b"
             ],
             [
              0.6666666666666666,
              "#ed7953"
             ],
             [
              0.7777777777777778,
              "#fb9f3a"
             ],
             [
              0.8888888888888888,
              "#fdca26"
             ],
             [
              1,
              "#f0f921"
             ]
            ],
            "type": "contour"
           }
          ],
          "contourcarpet": [
           {
            "colorbar": {
             "outlinewidth": 0,
             "ticks": ""
            },
            "type": "contourcarpet"
           }
          ],
          "heatmap": [
           {
            "colorbar": {
             "outlinewidth": 0,
             "ticks": ""
            },
            "colorscale": [
             [
              0,
              "#0d0887"
             ],
             [
              0.1111111111111111,
              "#46039f"
             ],
             [
              0.2222222222222222,
              "#7201a8"
             ],
             [
              0.3333333333333333,
              "#9c179e"
             ],
             [
              0.4444444444444444,
              "#bd3786"
             ],
             [
              0.5555555555555556,
              "#d8576b"
             ],
             [
              0.6666666666666666,
              "#ed7953"
             ],
             [
              0.7777777777777778,
              "#fb9f3a"
             ],
             [
              0.8888888888888888,
              "#fdca26"
             ],
             [
              1,
              "#f0f921"
             ]
            ],
            "type": "heatmap"
           }
          ],
          "heatmapgl": [
           {
            "colorbar": {
             "outlinewidth": 0,
             "ticks": ""
            },
            "colorscale": [
             [
              0,
              "#0d0887"
             ],
             [
              0.1111111111111111,
              "#46039f"
             ],
             [
              0.2222222222222222,
              "#7201a8"
             ],
             [
              0.3333333333333333,
              "#9c179e"
             ],
             [
              0.4444444444444444,
              "#bd3786"
             ],
             [
              0.5555555555555556,
              "#d8576b"
             ],
             [
              0.6666666666666666,
              "#ed7953"
             ],
             [
              0.7777777777777778,
              "#fb9f3a"
             ],
             [
              0.8888888888888888,
              "#fdca26"
             ],
             [
              1,
              "#f0f921"
             ]
            ],
            "type": "heatmapgl"
           }
          ],
          "histogram": [
           {
            "marker": {
             "pattern": {
              "fillmode": "overlay",
              "size": 10,
              "solidity": 0.2
             }
            },
            "type": "histogram"
           }
          ],
          "histogram2d": [
           {
            "colorbar": {
             "outlinewidth": 0,
             "ticks": ""
            },
            "colorscale": [
             [
              0,
              "#0d0887"
             ],
             [
              0.1111111111111111,
              "#46039f"
             ],
             [
              0.2222222222222222,
              "#7201a8"
             ],
             [
              0.3333333333333333,
              "#9c179e"
             ],
             [
              0.4444444444444444,
              "#bd3786"
             ],
             [
              0.5555555555555556,
              "#d8576b"
             ],
             [
              0.6666666666666666,
              "#ed7953"
             ],
             [
              0.7777777777777778,
              "#fb9f3a"
             ],
             [
              0.8888888888888888,
              "#fdca26"
             ],
             [
              1,
              "#f0f921"
             ]
            ],
            "type": "histogram2d"
           }
          ],
          "histogram2dcontour": [
           {
            "colorbar": {
             "outlinewidth": 0,
             "ticks": ""
            },
            "colorscale": [
             [
              0,
              "#0d0887"
             ],
             [
              0.1111111111111111,
              "#46039f"
             ],
             [
              0.2222222222222222,
              "#7201a8"
             ],
             [
              0.3333333333333333,
              "#9c179e"
             ],
             [
              0.4444444444444444,
              "#bd3786"
             ],
             [
              0.5555555555555556,
              "#d8576b"
             ],
             [
              0.6666666666666666,
              "#ed7953"
             ],
             [
              0.7777777777777778,
              "#fb9f3a"
             ],
             [
              0.8888888888888888,
              "#fdca26"
             ],
             [
              1,
              "#f0f921"
             ]
            ],
            "type": "histogram2dcontour"
           }
          ],
          "mesh3d": [
           {
            "colorbar": {
             "outlinewidth": 0,
             "ticks": ""
            },
            "type": "mesh3d"
           }
          ],
          "parcoords": [
           {
            "line": {
             "colorbar": {
              "outlinewidth": 0,
              "ticks": ""
             }
            },
            "type": "parcoords"
           }
          ],
          "pie": [
           {
            "automargin": true,
            "type": "pie"
           }
          ],
          "scatter": [
           {
            "fillpattern": {
             "fillmode": "overlay",
             "size": 10,
             "solidity": 0.2
            },
            "type": "scatter"
           }
          ],
          "scatter3d": [
           {
            "line": {
             "colorbar": {
              "outlinewidth": 0,
              "ticks": ""
             }
            },
            "marker": {
             "colorbar": {
              "outlinewidth": 0,
              "ticks": ""
             }
            },
            "type": "scatter3d"
           }
          ],
          "scattercarpet": [
           {
            "marker": {
             "colorbar": {
              "outlinewidth": 0,
              "ticks": ""
             }
            },
            "type": "scattercarpet"
           }
          ],
          "scattergeo": [
           {
            "marker": {
             "colorbar": {
              "outlinewidth": 0,
              "ticks": ""
             }
            },
            "type": "scattergeo"
           }
          ],
          "scattergl": [
           {
            "marker": {
             "colorbar": {
              "outlinewidth": 0,
              "ticks": ""
             }
            },
            "type": "scattergl"
           }
          ],
          "scattermapbox": [
           {
            "marker": {
             "colorbar": {
              "outlinewidth": 0,
              "ticks": ""
             }
            },
            "type": "scattermapbox"
           }
          ],
          "scatterpolar": [
           {
            "marker": {
             "colorbar": {
              "outlinewidth": 0,
              "ticks": ""
             }
            },
            "type": "scatterpolar"
           }
          ],
          "scatterpolargl": [
           {
            "marker": {
             "colorbar": {
              "outlinewidth": 0,
              "ticks": ""
             }
            },
            "type": "scatterpolargl"
           }
          ],
          "scatterternary": [
           {
            "marker": {
             "colorbar": {
              "outlinewidth": 0,
              "ticks": ""
             }
            },
            "type": "scatterternary"
           }
          ],
          "surface": [
           {
            "colorbar": {
             "outlinewidth": 0,
             "ticks": ""
            },
            "colorscale": [
             [
              0,
              "#0d0887"
             ],
             [
              0.1111111111111111,
              "#46039f"
             ],
             [
              0.2222222222222222,
              "#7201a8"
             ],
             [
              0.3333333333333333,
              "#9c179e"
             ],
             [
              0.4444444444444444,
              "#bd3786"
             ],
             [
              0.5555555555555556,
              "#d8576b"
             ],
             [
              0.6666666666666666,
              "#ed7953"
             ],
             [
              0.7777777777777778,
              "#fb9f3a"
             ],
             [
              0.8888888888888888,
              "#fdca26"
             ],
             [
              1,
              "#f0f921"
             ]
            ],
            "type": "surface"
           }
          ],
          "table": [
           {
            "cells": {
             "fill": {
              "color": "#EBF0F8"
             },
             "line": {
              "color": "white"
             }
            },
            "header": {
             "fill": {
              "color": "#C8D4E3"
             },
             "line": {
              "color": "white"
             }
            },
            "type": "table"
           }
          ]
         },
         "layout": {
          "annotationdefaults": {
           "arrowcolor": "#2a3f5f",
           "arrowhead": 0,
           "arrowwidth": 1
          },
          "autotypenumbers": "strict",
          "coloraxis": {
           "colorbar": {
            "outlinewidth": 0,
            "ticks": ""
           }
          },
          "colorscale": {
           "diverging": [
            [
             0,
             "#8e0152"
            ],
            [
             0.1,
             "#c51b7d"
            ],
            [
             0.2,
             "#de77ae"
            ],
            [
             0.3,
             "#f1b6da"
            ],
            [
             0.4,
             "#fde0ef"
            ],
            [
             0.5,
             "#f7f7f7"
            ],
            [
             0.6,
             "#e6f5d0"
            ],
            [
             0.7,
             "#b8e186"
            ],
            [
             0.8,
             "#7fbc41"
            ],
            [
             0.9,
             "#4d9221"
            ],
            [
             1,
             "#276419"
            ]
           ],
           "sequential": [
            [
             0,
             "#0d0887"
            ],
            [
             0.1111111111111111,
             "#46039f"
            ],
            [
             0.2222222222222222,
             "#7201a8"
            ],
            [
             0.3333333333333333,
             "#9c179e"
            ],
            [
             0.4444444444444444,
             "#bd3786"
            ],
            [
             0.5555555555555556,
             "#d8576b"
            ],
            [
             0.6666666666666666,
             "#ed7953"
            ],
            [
             0.7777777777777778,
             "#fb9f3a"
            ],
            [
             0.8888888888888888,
             "#fdca26"
            ],
            [
             1,
             "#f0f921"
            ]
           ],
           "sequentialminus": [
            [
             0,
             "#0d0887"
            ],
            [
             0.1111111111111111,
             "#46039f"
            ],
            [
             0.2222222222222222,
             "#7201a8"
            ],
            [
             0.3333333333333333,
             "#9c179e"
            ],
            [
             0.4444444444444444,
             "#bd3786"
            ],
            [
             0.5555555555555556,
             "#d8576b"
            ],
            [
             0.6666666666666666,
             "#ed7953"
            ],
            [
             0.7777777777777778,
             "#fb9f3a"
            ],
            [
             0.8888888888888888,
             "#fdca26"
            ],
            [
             1,
             "#f0f921"
            ]
           ]
          },
          "colorway": [
           "#636efa",
           "#EF553B",
           "#00cc96",
           "#ab63fa",
           "#FFA15A",
           "#19d3f3",
           "#FF6692",
           "#B6E880",
           "#FF97FF",
           "#FECB52"
          ],
          "font": {
           "color": "#2a3f5f"
          },
          "geo": {
           "bgcolor": "white",
           "lakecolor": "white",
           "landcolor": "#E5ECF6",
           "showlakes": true,
           "showland": true,
           "subunitcolor": "white"
          },
          "hoverlabel": {
           "align": "left"
          },
          "hovermode": "closest",
          "mapbox": {
           "style": "light"
          },
          "paper_bgcolor": "white",
          "plot_bgcolor": "#E5ECF6",
          "polar": {
           "angularaxis": {
            "gridcolor": "white",
            "linecolor": "white",
            "ticks": ""
           },
           "bgcolor": "#E5ECF6",
           "radialaxis": {
            "gridcolor": "white",
            "linecolor": "white",
            "ticks": ""
           }
          },
          "scene": {
           "xaxis": {
            "backgroundcolor": "#E5ECF6",
            "gridcolor": "white",
            "gridwidth": 2,
            "linecolor": "white",
            "showbackground": true,
            "ticks": "",
            "zerolinecolor": "white"
           },
           "yaxis": {
            "backgroundcolor": "#E5ECF6",
            "gridcolor": "white",
            "gridwidth": 2,
            "linecolor": "white",
            "showbackground": true,
            "ticks": "",
            "zerolinecolor": "white"
           },
           "zaxis": {
            "backgroundcolor": "#E5ECF6",
            "gridcolor": "white",
            "gridwidth": 2,
            "linecolor": "white",
            "showbackground": true,
            "ticks": "",
            "zerolinecolor": "white"
           }
          },
          "shapedefaults": {
           "line": {
            "color": "#2a3f5f"
           }
          },
          "ternary": {
           "aaxis": {
            "gridcolor": "white",
            "linecolor": "white",
            "ticks": ""
           },
           "baxis": {
            "gridcolor": "white",
            "linecolor": "white",
            "ticks": ""
           },
           "bgcolor": "#E5ECF6",
           "caxis": {
            "gridcolor": "white",
            "linecolor": "white",
            "ticks": ""
           }
          },
          "title": {
           "x": 0.05
          },
          "xaxis": {
           "automargin": true,
           "gridcolor": "white",
           "linecolor": "white",
           "ticks": "",
           "title": {
            "standoff": 15
           },
           "zerolinecolor": "white",
           "zerolinewidth": 2
          },
          "yaxis": {
           "automargin": true,
           "gridcolor": "white",
           "linecolor": "white",
           "ticks": "",
           "title": {
            "standoff": 15
           },
           "zerolinecolor": "white",
           "zerolinewidth": 2
          }
         }
        },
        "title": {
         "font": {
          "size": 16
         },
         "text": "Cluster-Wise Average PCA Values",
         "x": 0.5
        },
        "xaxis": {
         "anchor": "y",
         "autorange": true,
         "constrain": "domain",
         "domain": [
          0,
          1
         ],
         "range": [
          -0.5,
          2.5
         ],
         "scaleanchor": "y",
         "title": {
          "text": "PCA Component"
         },
         "type": "category"
        },
        "yaxis": {
         "anchor": "x",
         "autorange": true,
         "constrain": "domain",
         "domain": [
          0,
          1
         ],
         "range": [
          4.5,
          -0.5
         ],
         "title": {
          "text": "Cluster"
         },
         "type": "linear"
        }
       }
      },
      "image/png": "[encoded data removed]",
      "text/html": [
       "<div>                            <div id=\"03b146ae-225d-4c77-89dc-f2bfe8a60b13\" class=\"plotly-graph-div\" style=\"height:525px; width:100%;\"></div>            <script type=\"text/javascript\">                require([\"plotly\"], function(Plotly) {                    window.PLOTLYENV=window.PLOTLYENV || {};                                    if (document.getElementById(\"03b146ae-225d-4c77-89dc-f2bfe8a60b13\")) {                    Plotly.newPlot(                        \"03b146ae-225d-4c77-89dc-f2bfe8a60b13\",                        [{\"coloraxis\":\"coloraxis\",\"name\":\"0\",\"texttemplate\":\"%{z:.2f}\",\"x\":[\"PCA1\",\"PCA2\",\"PCA3\"],\"y\":[0,1,2,3,4],\"z\":[[1.8827545683500702,-0.8815040344806409,0.36348006064641736],[-0.20799858659252798,0.7804180560314847,-0.577871401658675],[-0.7609656152667162,-0.8990374886356106,-0.24404053958700084],[-2.771331953606885,0.7578606899559787,1.4713904855912316],[1.4711138601401428,0.41390943160427524,0.5052751214679527]],\"type\":\"heatmap\",\"xaxis\":\"x\",\"yaxis\":\"y\",\"hovertemplate\":\"PCA Component: %{x}\\u003cbr\\u003eCluster: %{y}\\u003cbr\\u003eAverage Value: %{z}\\u003cextra\\u003e\\u003c\\u002fextra\\u003e\"}],                        {\"template\":{\"data\":{\"histogram2dcontour\":[{\"type\":\"histogram2dcontour\",\"colorbar\":{\"outlinewidth\":0,\"ticks\":\"\"},\"colorscale\":[[0.0,\"#0d0887\"],[0.1111111111111111,\"#46039f\"],[0.2222222222222222,\"#7201a8\"],[0.3333333333333333,\"#9c179e\"],[0.4444444444444444,\"#bd3786\"],[0.5555555555555556,\"#d8576b\"],[0.6666666666666666,\"#ed7953\"],[0.7777777777777778,\"#fb9f3a\"],[0.8888888888888888,\"#fdca26\"],[1.0,\"#f0f921\"]]}],\"choropleth\":[{\"type\":\"choropleth\",\"colorbar\":{\"outlinewidth\":0,\"ticks\":\"\"}}],\"histogram2d\":[{\"type\":\"histogram2d\",\"colorbar\":{\"outlinewidth\":0,\"ticks\":\"\"},\"colorscale\":[[0.0,\"#0d0887\"],[0.1111111111111111,\"#46039f\"],[0.2222222222222222,\"#7201a8\"],[0.3333333333333333,\"#9c179e\"],[0.4444444444444444,\"#bd3786\"],[0.5555555555555556,\"#d8576b\"],[0.6666666666666666,\"#ed7953\"],[0.7777777777777778,\"#fb9f3a\"],[0.8888888888888888,\"#fdca26\"],[1.0,\"#f0f921\"]]}],\"heatmap\":[{\"type\":\"heatmap\",\"colorbar\":{\"outlinewidth\":0,\"ticks\":\"\"},\"colorscale\":[[0.0,\"#0d0887\"],[0.1111111111111111,\"#46039f\"],[0.2222222222222222,\"#7201a8\"],[0.3333333333333333,\"#9c179e\"],[0.4444444444444444,\"#bd3786\"],[0.5555555555555556,\"#d8576b\"],[0.6666666666666666,\"#ed7953\"],[0.7777777777777778,\"#fb9f3a\"],[0.8888888888888888,\"#fdca26\"],[1.0,\"#f0f921\"]]}],\"heatmapgl\":[{\"type\":\"heatmapgl\",\"colorbar\":{\"outlinewidth\":0,\"ticks\":\"\"},\"colorscale\":[[0.0,\"#0d0887\"],[0.1111111111111111,\"#46039f\"],[0.2222222222222222,\"#7201a8\"],[0.3333333333333333,\"#9c179e\"],[0.4444444444444444,\"#bd3786\"],[0.5555555555555556,\"#d8576b\"],[0.6666666666666666,\"#ed7953\"],[0.7777777777777778,\"#fb9f3a\"],[0.8888888888888888,\"#fdca26\"],[1.0,\"#f0f921\"]]}],\"contourcarpet\":[{\"type\":\"contourcarpet\",\"colorbar\":{\"outlinewidth\":0,\"ticks\":\"\"}}],\"contour\":[{\"type\":\"contour\",\"colorbar\":{\"outlinewidth\":0,\"ticks\":\"\"},\"colorscale\":[[0.0,\"#0d0887\"],[0.1111111111111111,\"#46039f\"],[0.2222222222222222,\"#7201a8\"],[0.3333333333333333,\"#9c179e\"],[0.4444444444444444,\"#bd3786\"],[0.5555555555555556,\"#d8576b\"],[0.6666666666666666,\"#ed7953\"],[0.7777777777777778,\"#fb9f3a\"],[0.8888888888888888,\"#fdca26\"],[1.0,\"#f0f921\"]]}],\"surface\":[{\"type\":\"surface\",\"colorbar\":{\"outlinewidth\":0,\"ticks\":\"\"},\"colorscale\":[[0.0,\"#0d0887\"],[0.1111111111111111,\"#46039f\"],[0.2222222222222222,\"#7201a8\"],[0.3333333333333333,\"#9c179e\"],[0.4444444444444444,\"#bd3786\"],[0.5555555555555556,\"#d8576b\"],[0.6666666666666666,\"#ed7953\"],[0.7777777777777778,\"#fb9f3a\"],[0.8888888888888888,\"#fdca26\"],[1.0,\"#f0f921\"]]}],\"mesh3d\":[{\"type\":\"mesh3d\",\"colorbar\":{\"outlinewidth\":0,\"ticks\":\"\"}}],\"scatter\":[{\"fillpattern\":{\"fillmode\":\"overlay\",\"size\":10,\"solidity\":0.2},\"type\":\"scatter\"}],\"parcoords\":[{\"type\":\"parcoords\",\"line\":{\"colorbar\":{\"outlinewidth\":0,\"ticks\":\"\"}}}],\"scatterpolargl\":[{\"type\":\"scatterpolargl\",\"marker\":{\"colorbar\":{\"outlinewidth\":0,\"ticks\":\"\"}}}],\"bar\":[{\"error_x\":{\"color\":\"#2a3f5f\"},\"error_y\":{\"color\":\"#2a3f5f\"},\"marker\":{\"line\":{\"color\":\"#E5ECF6\",\"width\":0.5},\"pattern\":{\"fillmode\":\"overlay\",\"size\":10,\"solidity\":0.2}},\"type\":\"bar\"}],\"scattergeo\":[{\"type\":\"scattergeo\",\"marker\":{\"colorbar\":{\"outlinewidth\":0,\"ticks\":\"\"}}}],\"scatterpolar\":[{\"type\":\"scatterpolar\",\"marker\":{\"colorbar\":{\"outlinewidth\":0,\"ticks\":\"\"}}}],\"histogram\":[{\"marker\":{\"pattern\":{\"fillmode\":\"overlay\",\"size\":10,\"solidity\":0.2}},\"type\":\"histogram\"}],\"scattergl\":[{\"type\":\"scattergl\",\"marker\":{\"colorbar\":{\"outlinewidth\":0,\"ticks\":\"\"}}}],\"scatter3d\":[{\"type\":\"scatter3d\",\"line\":{\"colorbar\":{\"outlinewidth\":0,\"ticks\":\"\"}},\"marker\":{\"colorbar\":{\"outlinewidth\":0,\"ticks\":\"\"}}}],\"scattermapbox\":[{\"type\":\"scattermapbox\",\"marker\":{\"colorbar\":{\"outlinewidth\":0,\"ticks\":\"\"}}}],\"scatterternary\":[{\"type\":\"scatterternary\",\"marker\":{\"colorbar\":{\"outlinewidth\":0,\"ticks\":\"\"}}}],\"scattercarpet\":[{\"type\":\"scattercarpet\",\"marker\":{\"colorbar\":{\"outlinewidth\":0,\"ticks\":\"\"}}}],\"carpet\":[{\"aaxis\":{\"endlinecolor\":\"#2a3f5f\",\"gridcolor\":\"white\",\"linecolor\":\"white\",\"minorgridcolor\":\"white\",\"startlinecolor\":\"#2a3f5f\"},\"baxis\":{\"endlinecolor\":\"#2a3f5f\",\"gridcolor\":\"white\",\"linecolor\":\"white\",\"minorgridcolor\":\"white\",\"startlinecolor\":\"#2a3f5f\"},\"type\":\"carpet\"}],\"table\":[{\"cells\":{\"fill\":{\"color\":\"#EBF0F8\"},\"line\":{\"color\":\"white\"}},\"header\":{\"fill\":{\"color\":\"#C8D4E3\"},\"line\":{\"color\":\"white\"}},\"type\":\"table\"}],\"barpolar\":[{\"marker\":{\"line\":{\"color\":\"#E5ECF6\",\"width\":0.5},\"pattern\":{\"fillmode\":\"overlay\",\"size\":10,\"solidity\":0.2}},\"type\":\"barpolar\"}],\"pie\":[{\"automargin\":true,\"type\":\"pie\"}]},\"layout\":{\"autotypenumbers\":\"strict\",\"colorway\":[\"#636efa\",\"#EF553B\",\"#00cc96\",\"#ab63fa\",\"#FFA15A\",\"#19d3f3\",\"#FF6692\",\"#B6E880\",\"#FF97FF\",\"#FECB52\"],\"font\":{\"color\":\"#2a3f5f\"},\"hovermode\":\"closest\",\"hoverlabel\":{\"align\":\"left\"},\"paper_bgcolor\":\"white\",\"plot_bgcolor\":\"#E5ECF6\",\"polar\":{\"bgcolor\":\"#E5ECF6\",\"angularaxis\":{\"gridcolor\":\"white\",\"linecolor\":\"white\",\"ticks\":\"\"},\"radialaxis\":{\"gridcolor\":\"white\",\"linecolor\":\"white\",\"ticks\":\"\"}},\"ternary\":{\"bgcolor\":\"#E5ECF6\",\"aaxis\":{\"gridcolor\":\"white\",\"linecolor\":\"white\",\"ticks\":\"\"},\"baxis\":{\"gridcolor\":\"white\",\"linecolor\":\"white\",\"ticks\":\"\"},\"caxis\":{\"gridcolor\":\"white\",\"linecolor\":\"white\",\"ticks\":\"\"}},\"coloraxis\":{\"colorbar\":{\"outlinewidth\":0,\"ticks\":\"\"}},\"colorscale\":{\"sequential\":[[0.0,\"#0d0887\"],[0.1111111111111111,\"#46039f\"],[0.2222222222222222,\"#7201a8\"],[0.3333333333333333,\"#9c179e\"],[0.4444444444444444,\"#bd3786\"],[0.5555555555555556,\"#d8576b\"],[0.6666666666666666,\"#ed7953\"],[0.7777777777777778,\"#fb9f3a\"],[0.8888888888888888,\"#fdca26\"],[1.0,\"#f0f921\"]],\"sequentialminus\":[[0.0,\"#0d0887\"],[0.1111111111111111,\"#46039f\"],[0.2222222222222222,\"#7201a8\"],[0.3333333333333333,\"#9c179e\"],[0.4444444444444444,\"#bd3786\"],[0.5555555555555556,\"#d8576b\"],[0.6666666666666666,\"#ed7953\"],[0.7777777777777778,\"#fb9f3a\"],[0.8888888888888888,\"#fdca26\"],[1.0,\"#f0f921\"]],\"diverging\":[[0,\"#8e0152\"],[0.1,\"#c51b7d\"],[0.2,\"#de77ae\"],[0.3,\"#f1b6da\"],[0.4,\"#fde0ef\"],[0.5,\"#f7f7f7\"],[0.6,\"#e6f5d0\"],[0.7,\"#b8e186\"],[0.8,\"#7fbc41\"],[0.9,\"#4d9221\"],[1,\"#276419\"]]},\"xaxis\":{\"gridcolor\":\"white\",\"linecolor\":\"white\",\"ticks\":\"\",\"title\":{\"standoff\":15},\"zerolinecolor\":\"white\",\"automargin\":true,\"zerolinewidth\":2},\"yaxis\":{\"gridcolor\":\"white\",\"linecolor\":\"white\",\"ticks\":\"\",\"title\":{\"standoff\":15},\"zerolinecolor\":\"white\",\"automargin\":true,\"zerolinewidth\":2},\"scene\":{\"xaxis\":{\"backgroundcolor\":\"#E5ECF6\",\"gridcolor\":\"white\",\"linecolor\":\"white\",\"showbackground\":true,\"ticks\":\"\",\"zerolinecolor\":\"white\",\"gridwidth\":2},\"yaxis\":{\"backgroundcolor\":\"#E5ECF6\",\"gridcolor\":\"white\",\"linecolor\":\"white\",\"showbackground\":true,\"ticks\":\"\",\"zerolinecolor\":\"white\",\"gridwidth\":2},\"zaxis\":{\"backgroundcolor\":\"#E5ECF6\",\"gridcolor\":\"white\",\"linecolor\":\"white\",\"showbackground\":true,\"ticks\":\"\",\"zerolinecolor\":\"white\",\"gridwidth\":2}},\"shapedefaults\":{\"line\":{\"color\":\"#2a3f5f\"}},\"annotationdefaults\":{\"arrowcolor\":\"#2a3f5f\",\"arrowhead\":0,\"arrowwidth\":1},\"geo\":{\"bgcolor\":\"white\",\"landcolor\":\"#E5ECF6\",\"subunitcolor\":\"white\",\"showland\":true,\"showlakes\":true,\"lakecolor\":\"white\"},\"title\":{\"x\":0.05},\"mapbox\":{\"style\":\"light\"}}},\"xaxis\":{\"anchor\":\"y\",\"domain\":[0.0,1.0],\"scaleanchor\":\"y\",\"constrain\":\"domain\",\"title\":{\"text\":\"PCA Component\"}},\"yaxis\":{\"anchor\":\"x\",\"domain\":[0.0,1.0],\"autorange\":\"reversed\",\"constrain\":\"domain\",\"title\":{\"text\":\"Cluster\"}},\"coloraxis\":{\"colorbar\":{\"title\":{\"text\":\"Avg Value\"}},\"colorscale\":[[0.0,\"#440154\"],[0.1111111111111111,\"#482878\"],[0.2222222222222222,\"#3e4989\"],[0.3333333333333333,\"#31688e\"],[0.4444444444444444,\"#26828e\"],[0.5555555555555556,\"#1f9e89\"],[0.6666666666666666,\"#35b779\"],[0.7777777777777778,\"#6ece58\"],[0.8888888888888888,\"#b5de2b\"],[1.0,\"#fde725\"]]},\"title\":{\"text\":\"Cluster-Wise Average PCA Values\",\"font\":{\"size\":16},\"x\":0.5},\"margin\":{\"l\":50,\"r\":50,\"t\":50,\"b\":50},\"paper_bgcolor\":\"white\"},                        {\"responsive\": true}                    ).then(function(){\n",
       "                            \n",
       "var gd = document.getElementById('03b146ae-225d-4c77-89dc-f2bfe8a60b13');\n",
       "var x = new MutationObserver(function (mutations, observer) {{\n",
       "        var display = window.getComputedStyle(gd).display;\n",
       "        if (!display || display === 'none') {{\n",
       "            console.log([gd, 'removed!']);\n",
       "            Plotly.purge(gd);\n",
       "            observer.disconnect();\n",
       "        }}\n",
       "}});\n",
       "\n",
       "// Listen for the removal of the full notebook cells\n",
       "var notebookContainer = gd.closest('#notebook-container');\n",
       "if (notebookContainer) {{\n",
       "    x.observe(notebookContainer, {childList: true});\n",
       "}}\n",
       "\n",
       "// Listen for the clearing of the current output cell\n",
       "var outputEl = gd.closest('.output');\n",
       "if (outputEl) {{\n",
       "    x.observe(outputEl, {childList: true});\n",
       "}}\n",
       "\n",
       "                        })                };                });            </script>        </div>"
      ]
     },
     "metadata": {},
     "output_type": "display_data"
    }
   ],
   "source": [
    "import plotly.express as px\n",
    "import pandas as pd\n",
    "\n",
    "# Calculate cluster-wise averages for PCA components\n",
    "heatmap_data = clustering_data.groupby('Cluster')[['PCA1', 'PCA2', 'PCA3']].mean().reset_index()\n",
    "\n",
    "# Melt the data for better visualization in a heatmap\n",
    "heatmap_data_melted = heatmap_data.melt(id_vars='Cluster', var_name='PCA Component', value_name='Average Value')\n",
    "\n",
    "# Create an interactive heatmap\n",
    "fig = px.imshow(\n",
    "    heatmap_data.set_index('Cluster'),\n",
    "    labels=dict(x=\"PCA Component\", y=\"Cluster\", color=\"Average Value\"),\n",
    "    title=\"Cluster-Wise Average PCA Values\",\n",
    "    text_auto=\".2f\",\n",
    "    color_continuous_scale='Viridis'\n",
    ")\n",
    "\n",
    "# Customize the layout\n",
    "fig.update_layout(\n",
    "    title_font_size=16,\n",
    "    title_x=0.5,\n",
    "    margin=dict(l=50, r=50, t=50, b=50),\n",
    "    coloraxis_colorbar=dict(title=\"Avg Value\"),\n",
    "    paper_bgcolor=\"white\",\n",
    ")\n",
    "\n",
    "# Show the plot\n",
    "fig.show()\n"
   ]
  },
  {
   "cell_type": "code",
   "execution_count": 121,
   "id": "2aeef8d1-4302-4b00-9583-2a3c97dbc638",
   "metadata": {},
   "outputs": [
    {
     "name": "stdout",
     "output_type": "stream",
     "text": [
      "Defaulting to user installation because normal site-packages is not writeable\n",
      "Requirement already satisfied: dash in c:\\users\\roxna\\appdata\\roaming\\python\\python312\\site-packages (2.18.2)\n",
      "Requirement already satisfied: Flask<3.1,>=1.0.4 in c:\\anaconda\\lib\\site-packages (from dash) (3.0.3)\n",
      "Requirement already satisfied: Werkzeug<3.1 in c:\\anaconda\\lib\\site-packages (from dash) (3.0.3)\n",
      "Requirement already satisfied: plotly>=5.0.0 in c:\\anaconda\\lib\\site-packages (from dash) (5.24.1)\n",
      "Requirement already satisfied: dash-html-components==2.0.0 in c:\\users\\roxna\\appdata\\roaming\\python\\python312\\site-packages (from dash) (2.0.0)\n",
      "Requirement already satisfied: dash-core-components==2.0.0 in c:\\users\\roxna\\appdata\\roaming\\python\\python312\\site-packages (from dash) (2.0.0)\n",
      "Requirement already satisfied: dash-table==5.0.0 in c:\\users\\roxna\\appdata\\roaming\\python\\python312\\site-packages (from dash) (5.0.0)\n",
      "Requirement already satisfied: importlib-metadata in c:\\anaconda\\lib\\site-packages (from dash) (7.0.1)\n",
      "Requirement already satisfied: typing-extensions>=4.1.1 in c:\\anaconda\\lib\\site-packages (from dash) (4.11.0)\n",
      "Requirement already satisfied: requests in c:\\anaconda\\lib\\site-packages (from dash) (2.32.3)\n",
      "Requirement already satisfied: retrying in c:\\users\\roxna\\appdata\\roaming\\python\\python312\\site-packages (from dash) (1.3.4)\n",
      "Requirement already satisfied: nest-asyncio in c:\\anaconda\\lib\\site-packages (from dash) (1.6.0)\n",
      "Requirement already satisfied: setuptools in c:\\anaconda\\lib\\site-packages (from dash) (75.1.0)\n",
      "Requirement already satisfied: Jinja2>=3.1.2 in c:\\anaconda\\lib\\site-packages (from Flask<3.1,>=1.0.4->dash) (3.1.4)\n",
      "Requirement already satisfied: itsdangerous>=2.1.2 in c:\\anaconda\\lib\\site-packages (from Flask<3.1,>=1.0.4->dash) (2.2.0)\n",
      "Requirement already satisfied: click>=8.1.3 in c:\\anaconda\\lib\\site-packages (from Flask<3.1,>=1.0.4->dash) (8.1.7)\n",
      "Requirement already satisfied: blinker>=1.6.2 in c:\\anaconda\\lib\\site-packages (from Flask<3.1,>=1.0.4->dash) (1.6.2)\n",
      "Requirement already satisfied: tenacity>=6.2.0 in c:\\anaconda\\lib\\site-packages (from plotly>=5.0.0->dash) (8.2.3)\n",
      "Requirement already satisfied: packaging in c:\\anaconda\\lib\\site-packages (from plotly>=5.0.0->dash) (24.1)\n",
      "Requirement already satisfied: MarkupSafe>=2.1.1 in c:\\anaconda\\lib\\site-packages (from Werkzeug<3.1->dash) (2.1.3)\n",
      "Requirement already satisfied: zipp>=0.5 in c:\\anaconda\\lib\\site-packages (from importlib-metadata->dash) (3.17.0)\n",
      "Requirement already satisfied: charset-normalizer<4,>=2 in c:\\anaconda\\lib\\site-packages (from requests->dash) (3.3.2)\n",
      "Requirement already satisfied: idna<4,>=2.5 in c:\\anaconda\\lib\\site-packages (from requests->dash) (3.7)\n",
      "Requirement already satisfied: urllib3<3,>=1.21.1 in c:\\anaconda\\lib\\site-packages (from requests->dash) (2.2.3)\n",
      "Requirement already satisfied: certifi>=2017.4.17 in c:\\anaconda\\lib\\site-packages (from requests->dash) (2024.8.30)\n",
      "Requirement already satisfied: six>=1.7.0 in c:\\anaconda\\lib\\site-packages (from retrying->dash) (1.16.0)\n",
      "Requirement already satisfied: colorama in c:\\anaconda\\lib\\site-packages (from click>=8.1.3->Flask<3.1,>=1.0.4->dash) (0.4.6)\n"
     ]
    }
   ],
   "source": [
    "!pip install dash"
   ]
  },
  {
   "cell_type": "code",
   "execution_count": 125,
   "id": "076726bc-4fe0-496b-8def-bf374fa8357a",
   "metadata": {},
   "outputs": [],
   "source": [
    "import dash\n",
    "from dash import dcc, html\n",
    "from dash.dependencies import Input, Output"
   ]
  },
  {
   "cell_type": "code",
   "execution_count": 135,
   "id": "08bd5aae-3a6b-4f13-96f3-fc8650264560",
   "metadata": {},
   "outputs": [
    {
     "data": {
      "text/html": [
       "\n",
       "        <iframe\n",
       "            width=\"100%\"\n",
       "            height=\"650\"\n",
       "            src=\"http://127.0.0.1:8051/\"\n",
       "            frameborder=\"0\"\n",
       "            allowfullscreen\n",
       "            \n",
       "        ></iframe>\n",
       "        "
      ],
      "text/plain": [
       "<IPython.lib.display.IFrame at 0x2581a1f29f0>"
      ]
     },
     "metadata": {},
     "output_type": "display_data"
    }
   ],
   "source": [
    "# Generate an interactive dashboard (outline, not executed here)\n",
    "def generate_dashboard():\n",
    "    print(\"Dashboard functionality can be implemented using Dash or Tableau for interactive visualization.\")\n",
    "    print(\"Key elements:\")\n",
    "\n",
    "# Dash app implementation to provide an interactive visualization for insights, clustering, and lookalike results\n",
    "app = dash.Dash(__name__)\n",
    "\n",
    "app.layout = html.Div([\n",
    "    html.H1(\"eCommerce Analytics Dashboard\", style={'textAlign': 'center'}),\n",
    "    \n",
    "    # Dropdown for selecting visualization\n",
    "    html.Div([\n",
    "        html.Label(\"Select Analysis Type:\"),\n",
    "        dcc.Dropdown(\n",
    "            id='analysis-type',\n",
    "            options=[\n",
    "                {'label': 'Customer Distribution by Region', 'value': 'region_dist'},\n",
    "                {'label': 'Top 10 Products by Quantity Sold', 'value': 'top_products'},\n",
    "                {'label': 'Monthly Revenue Trend', 'value': 'monthly_revenue'},\n",
    "                {'label': 'Cluster Visualization', 'value': 'clusters'},\n",
    "                {'label': 'Lookalike Recommendations', 'value': 'lookalikes'}\n",
    "            ],\n",
    "            value='region_dist'\n",
    "        )\n",
    "    ], style={'width': '50%', 'margin': '0 auto'}),\n",
    "    \n",
    "    # Graph for displaying selected analysis\n",
    "    dcc.Graph(id='output-graph'),\n",
    "\n",
    "    # Data table for additional details\n",
    "    html.Div(id='data-table-container')\n",
    "])\n",
    "\n",
    "@app.callback(\n",
    "    [Output('output-graph', 'figure'), Output('data-table-container', 'children')],\n",
    "    [Input('analysis-type', 'value')]\n",
    ")\n",
    "def update_dashboard(analysis_type):\n",
    "    if analysis_type == 'region_dist':\n",
    "        fig = {\n",
    "            'data': [\n",
    "                {\n",
    "                    'x': customers['Region'].value_counts().index,\n",
    "                    'y': customers['Region'].value_counts().values,\n",
    "                    'type': 'bar',\n",
    "                    'name': 'Regions'\n",
    "                }\n",
    "            ],\n",
    "            'layout': {\n",
    "                'title': 'Customer Distribution by Region'\n",
    "            }\n",
    "        }\n",
    "        return fig, None\n",
    "\n",
    "    elif analysis_type == 'top_products':\n",
    "        top_products = merged_data.groupby(\"ProductName\")['Quantity'].sum().sort_values(ascending=False).head(10)\n",
    "        fig = {\n",
    "            'data': [\n",
    "                {\n",
    "                    'x': top_products.index,\n",
    "                    'y': top_products.values,\n",
    "                    'type': 'bar',\n",
    "                    'name': 'Top Products'\n",
    "                }\n",
    "            ],\n",
    "            'layout': {\n",
    "                'title': 'Top 10 Products by Quantity Sold'\n",
    "            }\n",
    "        }\n",
    "        return fig, None\n",
    "\n",
    "    elif analysis_type == 'monthly_revenue':\n",
    "        fig = {\n",
    "            'data': [\n",
    "                {\n",
    "                    'x': monthly_revenue.index.astype(str),\n",
    "                    'y': monthly_revenue.values,\n",
    "                    'type': 'line',\n",
    "                    'name': 'Monthly Revenue'\n",
    "                }\n",
    "            ],\n",
    "            'layout': {\n",
    "                'title': 'Monthly Revenue Trend'\n",
    "            }\n",
    "        }\n",
    "        return fig, None\n",
    "\n",
    "    elif analysis_type == 'clusters':\n",
    "        fig = {\n",
    "            'data': [\n",
    "                go.Scatter3d(\n",
    "                    x=clustering_data['PCA1'],\n",
    "                    y=clustering_data['PCA2'],\n",
    "                    z=clustering_data['PCA3'],\n",
    "                    mode='markers',\n",
    "                    marker=dict(size=5, color=clustering_data['Cluster'], colorscale='Viridis'),\n",
    "                    text=clustering_data['CustomerID']\n",
    "                )\n",
    "            ],\n",
    "            'layout': {\n",
    "                'title': '3D Customer Segmentation Visualization',\n",
    "                'scene': {\n",
    "                    'xaxis_title': 'PCA1',\n",
    "                    'yaxis_title': 'PCA2',\n",
    "                    'zaxis_title': 'PCA3'\n",
    "                }\n",
    "            }\n",
    "        }\n",
    "        return fig, None\n",
    "\n",
    "    elif analysis_type == 'lookalikes':\n",
    "        table = [\n",
    "            html.Table([\n",
    "                html.Thead(html.Tr([html.Th(col) for col in lookalike_df.columns])),\n",
    "                html.Tbody([\n",
    "                    html.Tr([html.Td(lookalike_df.iloc[i][col]) for col in lookalike_df.columns])\n",
    "                    for i in range(min(len(lookalike_df), 10))  # Show first 10 rows\n",
    "                ])\n",
    "            ])\n",
    "        ]\n",
    "        return {}, table\n",
    "\n",
    "    return {}, None\n",
    "\n",
    "if __name__ == '__main__':\n",
    "    app.run_server(debug=True,port=8051)\n"
   ]
  },
  {
   "cell_type": "code",
   "execution_count": null,
   "id": "6d679c3c-336e-48e2-bc10-0ba61be76a6d",
   "metadata": {},
   "outputs": [],
   "source": []
  }
 ],
 "metadata": {
  "kernelspec": {
   "display_name": "Python 3 (ipykernel)",
   "language": "python",
   "name": "python3"
  },
  "language_info": {
   "codemirror_mode": {
    "name": "ipython",
    "version": 3
   },
   "file_extension": ".py",
   "mimetype": "text/x-python",
   "name": "python",
   "nbconvert_exporter": "python",
   "pygments_lexer": "ipython3",
   "version": "3.12.7"
  }
 },
 "nbformat": 4,
 "nbformat_minor": 5
}
